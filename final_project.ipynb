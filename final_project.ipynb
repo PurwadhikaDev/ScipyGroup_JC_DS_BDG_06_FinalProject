{
 "cells": [
  {
   "cell_type": "markdown",
   "metadata": {},
   "source": [
    "# DATASET BANK MARKETING CAMPAIGN\n"
   ]
  },
  {
   "cell_type": "markdown",
   "metadata": {},
   "source": [
    "## Dataset & Business Understanding\n",
    "\n",
    "- This dataset is from a bank in Portugal that had been doing campaigns through phone calls to invite people to open a term deposit\n",
    "\n",
    "- **A term deposit is a type of investment** where when a person opens a term deposit, he/she can only deposit money into the account. The money will be locked for a period of time, meaning that the account holder could not withdraw until the term has been met. (e.g A person opens a 3-month term deposit; The person can only deposit into that account and the only time to withdraw is when the 3-month contract has ended). Usually, the interest rate is higher than traditional savings account where people can withdraw at any time.\n",
    "    - source: https://www.investopedia.com/terms/t/termdeposit.asp#:~:text=A%20term%20deposit%20is%20a%20type%20of%20deposit,ranging%20from%20one%20month%20to%20a%20few%20years.\n",
    "\n",
    "- The dataset consists of 41188 data with 20 columns and 1 target variable\n",
    "        \n",
    "- Within the dataset, there are 10 categorical variables and 10 numerical variables"
   ]
  },
  {
   "cell_type": "markdown",
   "metadata": {},
   "source": [
    "# Feature Information\n",
    "\n",
    "## bank client data:\n",
    "\n",
    "        1 - age (numeric)\n",
    "\n",
    "        2 - job : type of job (categorical: \"admin.\",\"blue-collar\",\"entrepreneur\",\"housemaid\",\"management\",\"retired\",\"self-employed\",\"services\",\"student\",\"technician\",\"unemployed\",\"unknown\")\n",
    "\n",
    "        3 - marital : marital status (categorical: \"divorced\",\"married\",\"single\",\"unknown\"; note: \"divorced\" means divorced or widowed)\n",
    "\n",
    "        4 - education (categorical: \"basic.4y\",\"basic.6y\",\"basic.9y\",\"high.school\",\"illiterate\",\"professional.course\",\"university.degree\",\"unknown\")\n",
    "\n",
    "        5 - default: has credit in default? (categorical: \"no\",\"yes\",\"unknown\")\n",
    "\n",
    "        6 - housing: has housing loan? (categorical: \"no\",\"yes\",\"unknown\")\n",
    "\n",
    "        7 - loan: has personal loan? (categorical: \"no\",\"yes\",\"unknown\")\n",
    "\n",
    "## related with the last contact of the current campaign:\n",
    "\n",
    "        8 - contact: contact communication type (categorical: \"cellular\",\"telephone\")\n",
    "        \n",
    "        9 - month: last contact month of year (categorical: \"jan\", \"feb\", \"mar\", …, \"nov\", \"dec\")\n",
    "\n",
    "        10 - dayofweek: last contact day of the week (categorical: \"mon\",\"tue\",\"wed\",\"thu\",\"fri\")\n",
    "\n",
    "        11 - duration: last contact duration, in seconds (numeric). \n",
    "        Important note: this attribute highly affects the output target (e.g., if duration=0 then y=\"no\"). Yet, the duration is not known before a call is performed. Also, after the end of the call y is obviously known. Thus, this input should only be included for benchmark purposes and should be discarded if the intention is to have a realistic predictive model.\n",
    "\n",
    "## other attributes:\n",
    "        12 - campaign: number of contacts performed during this campaign and for this client (numeric, includes last contact)\n",
    "\n",
    "        13 - pdays: number of days that passed by after the client was last contacted from a previous campaign (numeric; 999 means client was not previously contacted)\n",
    "\n",
    "        14 - previous: number of contacts performed before this campaign and for this client (numeric)\n",
    "\n",
    "        15 - poutcome: outcome of the previous marketing campaign (categorical: \"failure\",\"nonexistent\",\"success\")\n",
    "\n",
    "## social and economic context attributes\n",
    "        16 - emp.var.rate: employment variation rate - quarterly indicator (numeric)\n",
    "\n",
    "        17 - cons.price.idx: consumer price index - monthly indicator (numeric)\n",
    "\n",
    "        18 - cons.conf.idx: consumer confidence index - monthly indicator (numeric)\n",
    "\n",
    "        19 - euribor3m: euribor 3 month rate - daily indicator (numeric)\n",
    "\n",
    "        20 - nr.employed: number of employees - quarterly indicator (numeric)\n",
    "\n",
    "## Output variable (desired target):\n",
    "\n",
    "        21 - y - has the client subscribed a term deposit? (binary: \"yes\",\"no\")\n"
   ]
  },
  {
   "cell_type": "code",
   "execution_count": null,
   "metadata": {},
   "outputs": [],
   "source": []
  },
  {
   "cell_type": "markdown",
   "metadata": {},
   "source": [
    "# Problem Framing & Task\n",
    "\n",
    "- The **problem** we were given, and after understanding the business, we were asked to create a classification model to allow Portugal bank to be able to predict a possible client joining the service. \n",
    "\n",
    "- Our **assumption** on this project is that we are data scientists working for Portugal Bank. By logic, a campaign needs money to be run smoothly. Furthermore, our bank is one of the largest bank in Portugal, meaning that a campaign would cost a lot. Not only money that needs to be considered, time and resources are as valuable as money. \n",
    "\n",
    "- Thus, our **aim** for this project is to create a model good enough to predict people joining our service therfore, we could decrease the time and resources needed for a campaign which would result in decrease of expenses. Another goal of this project is to allow future campaigns to be more efficient and more impactful by recommending what to do and what type of people to be more targeted.\n",
    "\n",
    "- Expected Output:\n",
    "    - Our model is sophisticated enough for the bank to use it to predict a potential clients. NOTE: Our model should only be used for benchmarks purposes; do not depends on the outcome of our model.\n",
    "\n",
    "- Evaluation Metrics:\n",
    "    - Accuracy: We want our model to predict accurately of people joining or not\n",
    "    - Recall: As for the error that our model would make, we will focus on the recall of our model. The reason being is misclassifying people who actually wanted to join as not joining, would cause the bank of income loss. Therefore, increasing recall will decrease this type of error.\n"
   ]
  },
  {
   "cell_type": "code",
   "execution_count": 1,
   "metadata": {},
   "outputs": [],
   "source": [
    "import pandas as pd \n",
    "import seaborn as sns \n",
    "import matplotlib.pyplot as plt \n",
    "import numpy as np \n",
    "\n",
    "import warnings \n",
    "warnings.filterwarnings('ignore')"
   ]
  },
  {
   "cell_type": "code",
   "execution_count": 2,
   "metadata": {},
   "outputs": [],
   "source": [
    "#importing data\n",
    "df = pd.read_csv('bank-additional-full.csv', sep=';')"
   ]
  },
  {
   "cell_type": "code",
   "execution_count": 3,
   "metadata": {},
   "outputs": [
    {
     "data": {
      "text/plain": [
       "(41188, 21)"
      ]
     },
     "execution_count": 3,
     "metadata": {},
     "output_type": "execute_result"
    }
   ],
   "source": [
    "df.shape"
   ]
  },
  {
   "cell_type": "code",
   "execution_count": 4,
   "metadata": {},
   "outputs": [
    {
     "data": {
      "text/html": [
       "<div>\n",
       "<style scoped>\n",
       "    .dataframe tbody tr th:only-of-type {\n",
       "        vertical-align: middle;\n",
       "    }\n",
       "\n",
       "    .dataframe tbody tr th {\n",
       "        vertical-align: top;\n",
       "    }\n",
       "\n",
       "    .dataframe thead th {\n",
       "        text-align: right;\n",
       "    }\n",
       "</style>\n",
       "<table border=\"1\" class=\"dataframe\">\n",
       "  <thead>\n",
       "    <tr style=\"text-align: right;\">\n",
       "      <th></th>\n",
       "      <th>age</th>\n",
       "      <th>job</th>\n",
       "      <th>marital</th>\n",
       "      <th>education</th>\n",
       "      <th>default</th>\n",
       "      <th>housing</th>\n",
       "      <th>loan</th>\n",
       "      <th>contact</th>\n",
       "      <th>month</th>\n",
       "      <th>day_of_week</th>\n",
       "      <th>...</th>\n",
       "      <th>campaign</th>\n",
       "      <th>pdays</th>\n",
       "      <th>previous</th>\n",
       "      <th>poutcome</th>\n",
       "      <th>emp.var.rate</th>\n",
       "      <th>cons.price.idx</th>\n",
       "      <th>cons.conf.idx</th>\n",
       "      <th>euribor3m</th>\n",
       "      <th>nr.employed</th>\n",
       "      <th>y</th>\n",
       "    </tr>\n",
       "  </thead>\n",
       "  <tbody>\n",
       "    <tr>\n",
       "      <th>0</th>\n",
       "      <td>56</td>\n",
       "      <td>housemaid</td>\n",
       "      <td>married</td>\n",
       "      <td>basic.4y</td>\n",
       "      <td>no</td>\n",
       "      <td>no</td>\n",
       "      <td>no</td>\n",
       "      <td>telephone</td>\n",
       "      <td>may</td>\n",
       "      <td>mon</td>\n",
       "      <td>...</td>\n",
       "      <td>1</td>\n",
       "      <td>999</td>\n",
       "      <td>0</td>\n",
       "      <td>nonexistent</td>\n",
       "      <td>1.1</td>\n",
       "      <td>93.994</td>\n",
       "      <td>-36.4</td>\n",
       "      <td>4.857</td>\n",
       "      <td>5191.0</td>\n",
       "      <td>no</td>\n",
       "    </tr>\n",
       "    <tr>\n",
       "      <th>1</th>\n",
       "      <td>57</td>\n",
       "      <td>services</td>\n",
       "      <td>married</td>\n",
       "      <td>high.school</td>\n",
       "      <td>unknown</td>\n",
       "      <td>no</td>\n",
       "      <td>no</td>\n",
       "      <td>telephone</td>\n",
       "      <td>may</td>\n",
       "      <td>mon</td>\n",
       "      <td>...</td>\n",
       "      <td>1</td>\n",
       "      <td>999</td>\n",
       "      <td>0</td>\n",
       "      <td>nonexistent</td>\n",
       "      <td>1.1</td>\n",
       "      <td>93.994</td>\n",
       "      <td>-36.4</td>\n",
       "      <td>4.857</td>\n",
       "      <td>5191.0</td>\n",
       "      <td>no</td>\n",
       "    </tr>\n",
       "    <tr>\n",
       "      <th>2</th>\n",
       "      <td>37</td>\n",
       "      <td>services</td>\n",
       "      <td>married</td>\n",
       "      <td>high.school</td>\n",
       "      <td>no</td>\n",
       "      <td>yes</td>\n",
       "      <td>no</td>\n",
       "      <td>telephone</td>\n",
       "      <td>may</td>\n",
       "      <td>mon</td>\n",
       "      <td>...</td>\n",
       "      <td>1</td>\n",
       "      <td>999</td>\n",
       "      <td>0</td>\n",
       "      <td>nonexistent</td>\n",
       "      <td>1.1</td>\n",
       "      <td>93.994</td>\n",
       "      <td>-36.4</td>\n",
       "      <td>4.857</td>\n",
       "      <td>5191.0</td>\n",
       "      <td>no</td>\n",
       "    </tr>\n",
       "    <tr>\n",
       "      <th>3</th>\n",
       "      <td>40</td>\n",
       "      <td>admin.</td>\n",
       "      <td>married</td>\n",
       "      <td>basic.6y</td>\n",
       "      <td>no</td>\n",
       "      <td>no</td>\n",
       "      <td>no</td>\n",
       "      <td>telephone</td>\n",
       "      <td>may</td>\n",
       "      <td>mon</td>\n",
       "      <td>...</td>\n",
       "      <td>1</td>\n",
       "      <td>999</td>\n",
       "      <td>0</td>\n",
       "      <td>nonexistent</td>\n",
       "      <td>1.1</td>\n",
       "      <td>93.994</td>\n",
       "      <td>-36.4</td>\n",
       "      <td>4.857</td>\n",
       "      <td>5191.0</td>\n",
       "      <td>no</td>\n",
       "    </tr>\n",
       "    <tr>\n",
       "      <th>4</th>\n",
       "      <td>56</td>\n",
       "      <td>services</td>\n",
       "      <td>married</td>\n",
       "      <td>high.school</td>\n",
       "      <td>no</td>\n",
       "      <td>no</td>\n",
       "      <td>yes</td>\n",
       "      <td>telephone</td>\n",
       "      <td>may</td>\n",
       "      <td>mon</td>\n",
       "      <td>...</td>\n",
       "      <td>1</td>\n",
       "      <td>999</td>\n",
       "      <td>0</td>\n",
       "      <td>nonexistent</td>\n",
       "      <td>1.1</td>\n",
       "      <td>93.994</td>\n",
       "      <td>-36.4</td>\n",
       "      <td>4.857</td>\n",
       "      <td>5191.0</td>\n",
       "      <td>no</td>\n",
       "    </tr>\n",
       "  </tbody>\n",
       "</table>\n",
       "<p>5 rows × 21 columns</p>\n",
       "</div>"
      ],
      "text/plain": [
       "   age        job  marital    education  default housing loan    contact  \\\n",
       "0   56  housemaid  married     basic.4y       no      no   no  telephone   \n",
       "1   57   services  married  high.school  unknown      no   no  telephone   \n",
       "2   37   services  married  high.school       no     yes   no  telephone   \n",
       "3   40     admin.  married     basic.6y       no      no   no  telephone   \n",
       "4   56   services  married  high.school       no      no  yes  telephone   \n",
       "\n",
       "  month day_of_week  ...  campaign  pdays  previous     poutcome emp.var.rate  \\\n",
       "0   may         mon  ...         1    999         0  nonexistent          1.1   \n",
       "1   may         mon  ...         1    999         0  nonexistent          1.1   \n",
       "2   may         mon  ...         1    999         0  nonexistent          1.1   \n",
       "3   may         mon  ...         1    999         0  nonexistent          1.1   \n",
       "4   may         mon  ...         1    999         0  nonexistent          1.1   \n",
       "\n",
       "   cons.price.idx  cons.conf.idx  euribor3m  nr.employed   y  \n",
       "0          93.994          -36.4      4.857       5191.0  no  \n",
       "1          93.994          -36.4      4.857       5191.0  no  \n",
       "2          93.994          -36.4      4.857       5191.0  no  \n",
       "3          93.994          -36.4      4.857       5191.0  no  \n",
       "4          93.994          -36.4      4.857       5191.0  no  \n",
       "\n",
       "[5 rows x 21 columns]"
      ]
     },
     "execution_count": 4,
     "metadata": {},
     "output_type": "execute_result"
    }
   ],
   "source": [
    "df.head()"
   ]
  },
  {
   "cell_type": "markdown",
   "metadata": {},
   "source": []
  },
  {
   "cell_type": "code",
   "execution_count": 5,
   "metadata": {},
   "outputs": [
    {
     "name": "stdout",
     "output_type": "stream",
     "text": [
      "<class 'pandas.core.frame.DataFrame'>\n",
      "RangeIndex: 41188 entries, 0 to 41187\n",
      "Data columns (total 21 columns):\n",
      " #   Column          Non-Null Count  Dtype  \n",
      "---  ------          --------------  -----  \n",
      " 0   age             41188 non-null  int64  \n",
      " 1   job             41188 non-null  object \n",
      " 2   marital         41188 non-null  object \n",
      " 3   education       41188 non-null  object \n",
      " 4   default         41188 non-null  object \n",
      " 5   housing         41188 non-null  object \n",
      " 6   loan            41188 non-null  object \n",
      " 7   contact         41188 non-null  object \n",
      " 8   month           41188 non-null  object \n",
      " 9   day_of_week     41188 non-null  object \n",
      " 10  duration        41188 non-null  int64  \n",
      " 11  campaign        41188 non-null  int64  \n",
      " 12  pdays           41188 non-null  int64  \n",
      " 13  previous        41188 non-null  int64  \n",
      " 14  poutcome        41188 non-null  object \n",
      " 15  emp.var.rate    41188 non-null  float64\n",
      " 16  cons.price.idx  41188 non-null  float64\n",
      " 17  cons.conf.idx   41188 non-null  float64\n",
      " 18  euribor3m       41188 non-null  float64\n",
      " 19  nr.employed     41188 non-null  float64\n",
      " 20  y               41188 non-null  object \n",
      "dtypes: float64(5), int64(5), object(11)\n",
      "memory usage: 6.6+ MB\n"
     ]
    }
   ],
   "source": [
    "df.info()"
   ]
  },
  {
   "cell_type": "code",
   "execution_count": 6,
   "metadata": {},
   "outputs": [
    {
     "data": {
      "text/plain": [
       "age               0\n",
       "job               0\n",
       "marital           0\n",
       "education         0\n",
       "default           0\n",
       "housing           0\n",
       "loan              0\n",
       "contact           0\n",
       "month             0\n",
       "day_of_week       0\n",
       "duration          0\n",
       "campaign          0\n",
       "pdays             0\n",
       "previous          0\n",
       "poutcome          0\n",
       "emp.var.rate      0\n",
       "cons.price.idx    0\n",
       "cons.conf.idx     0\n",
       "euribor3m         0\n",
       "nr.employed       0\n",
       "y                 0\n",
       "dtype: int64"
      ]
     },
     "execution_count": 6,
     "metadata": {},
     "output_type": "execute_result"
    }
   ],
   "source": [
    "#check for missing values\n",
    "df.isna().sum()"
   ]
  },
  {
   "cell_type": "markdown",
   "metadata": {},
   "source": [
    "# General Insight\n",
    "\n",
    "- The dataset consists of 41188 data with 20 features and 1 target variable.\n",
    "\n",
    "- There seem no missing values as of right now but we will look into it on the EDA process\n",
    "\n",
    "- Looking at the data types, it looks that all data is in correct form"
   ]
  },
  {
   "cell_type": "markdown",
   "metadata": {},
   "source": [
    "# Methodology\n",
    "\n",
    "A general idea of our workflow (NOTE: Not all specific steps are mentioned)\n",
    "\n",
    "\n",
    "<img src='Blank diagram (1).jpeg'>"
   ]
  },
  {
   "cell_type": "code",
   "execution_count": 7,
   "metadata": {},
   "outputs": [],
   "source": [
    "df_eda = df.copy()"
   ]
  },
  {
   "cell_type": "code",
   "execution_count": 8,
   "metadata": {},
   "outputs": [],
   "source": [
    "df_eda['y_binary'] = df_eda['y'].apply(lambda x: 1 if x=='yes' else 0)"
   ]
  },
  {
   "cell_type": "markdown",
   "metadata": {},
   "source": [
    "# EDA on Categorical Variables\n",
    "\n",
    "- Job\n",
    "    - 12 Unique Variables\n",
    "    - Found 'Unknown' data\n",
    "\n",
    "- Marital Status\n",
    "    - 4 Unique Variables\n",
    "    - Found 'Unknown' data\n",
    "    \n",
    "- Education\n",
    "    - 8 Unique Variables\n",
    "    - Found 'Unknown' data\n",
    "\n",
    "- Default\n",
    "    - 3 Unique Variables\n",
    "    - Found 'Unknown' data\n",
    "- Housing\n",
    "    - 3 Unique Variables\n",
    "    - Found 'Unknown' data\n",
    "\n",
    "- Loan\n",
    "    - 3 Unique Variables\n",
    "    - Found 'Unknown' data\n",
    "\n",
    "- Contact\n",
    "    - 2 Unique Variables\n",
    "- Month\n",
    "    - All months are present\n",
    "\n",
    "- Day of Week\n",
    "    - Only weekdays are present\n",
    "\n",
    "- pOutcome\n",
    "    - 3 Unique Variables\n"
   ]
  },
  {
   "cell_type": "code",
   "execution_count": 9,
   "metadata": {},
   "outputs": [
    {
     "data": {
      "text/html": [
       "<div>\n",
       "<style scoped>\n",
       "    .dataframe tbody tr th:only-of-type {\n",
       "        vertical-align: middle;\n",
       "    }\n",
       "\n",
       "    .dataframe tbody tr th {\n",
       "        vertical-align: top;\n",
       "    }\n",
       "\n",
       "    .dataframe thead th {\n",
       "        text-align: right;\n",
       "    }\n",
       "</style>\n",
       "<table border=\"1\" class=\"dataframe\">\n",
       "  <thead>\n",
       "    <tr style=\"text-align: right;\">\n",
       "      <th></th>\n",
       "      <th>job</th>\n",
       "      <th>marital</th>\n",
       "      <th>education</th>\n",
       "      <th>default</th>\n",
       "      <th>housing</th>\n",
       "      <th>loan</th>\n",
       "      <th>contact</th>\n",
       "      <th>month</th>\n",
       "      <th>day_of_week</th>\n",
       "      <th>poutcome</th>\n",
       "      <th>y</th>\n",
       "    </tr>\n",
       "  </thead>\n",
       "  <tbody>\n",
       "    <tr>\n",
       "      <th>count</th>\n",
       "      <td>41188</td>\n",
       "      <td>41188</td>\n",
       "      <td>41188</td>\n",
       "      <td>41188</td>\n",
       "      <td>41188</td>\n",
       "      <td>41188</td>\n",
       "      <td>41188</td>\n",
       "      <td>41188</td>\n",
       "      <td>41188</td>\n",
       "      <td>41188</td>\n",
       "      <td>41188</td>\n",
       "    </tr>\n",
       "    <tr>\n",
       "      <th>unique</th>\n",
       "      <td>12</td>\n",
       "      <td>4</td>\n",
       "      <td>8</td>\n",
       "      <td>3</td>\n",
       "      <td>3</td>\n",
       "      <td>3</td>\n",
       "      <td>2</td>\n",
       "      <td>10</td>\n",
       "      <td>5</td>\n",
       "      <td>3</td>\n",
       "      <td>2</td>\n",
       "    </tr>\n",
       "    <tr>\n",
       "      <th>top</th>\n",
       "      <td>admin.</td>\n",
       "      <td>married</td>\n",
       "      <td>university.degree</td>\n",
       "      <td>no</td>\n",
       "      <td>yes</td>\n",
       "      <td>no</td>\n",
       "      <td>cellular</td>\n",
       "      <td>may</td>\n",
       "      <td>thu</td>\n",
       "      <td>nonexistent</td>\n",
       "      <td>no</td>\n",
       "    </tr>\n",
       "    <tr>\n",
       "      <th>freq</th>\n",
       "      <td>10422</td>\n",
       "      <td>24928</td>\n",
       "      <td>12168</td>\n",
       "      <td>32588</td>\n",
       "      <td>21576</td>\n",
       "      <td>33950</td>\n",
       "      <td>26144</td>\n",
       "      <td>13769</td>\n",
       "      <td>8623</td>\n",
       "      <td>35563</td>\n",
       "      <td>36548</td>\n",
       "    </tr>\n",
       "  </tbody>\n",
       "</table>\n",
       "</div>"
      ],
      "text/plain": [
       "           job  marital          education default housing   loan   contact  \\\n",
       "count    41188    41188              41188   41188   41188  41188     41188   \n",
       "unique      12        4                  8       3       3      3         2   \n",
       "top     admin.  married  university.degree      no     yes     no  cellular   \n",
       "freq     10422    24928              12168   32588   21576  33950     26144   \n",
       "\n",
       "        month day_of_week     poutcome      y  \n",
       "count   41188       41188        41188  41188  \n",
       "unique     10           5            3      2  \n",
       "top       may         thu  nonexistent     no  \n",
       "freq    13769        8623        35563  36548  "
      ]
     },
     "execution_count": 9,
     "metadata": {},
     "output_type": "execute_result"
    }
   ],
   "source": [
    "# Get all the columns that are Object Type\n",
    "df.describe(exclude='number')"
   ]
  },
  {
   "cell_type": "markdown",
   "metadata": {},
   "source": []
  },
  {
   "cell_type": "code",
   "execution_count": 10,
   "metadata": {},
   "outputs": [
    {
     "data": {
      "text/plain": [
       "array(['no', 'yes', 'unknown'], dtype=object)"
      ]
     },
     "execution_count": 10,
     "metadata": {},
     "output_type": "execute_result"
    }
   ],
   "source": [
    "# Check unique values\n",
    "df['loan'].unique()"
   ]
  },
  {
   "cell_type": "code",
   "execution_count": 11,
   "metadata": {},
   "outputs": [
    {
     "data": {
      "text/plain": [
       "<AxesSubplot:xlabel='contact', ylabel='count'>"
      ]
     },
     "execution_count": 11,
     "metadata": {},
     "output_type": "execute_result"
    },
    {
     "data": {
      "image/png": "[encoded data removed]",
      "text/plain": [
       "<Figure size 1440x1440 with 10 Axes>"
      ]
     },
     "metadata": {
      "needs_background": "light"
     },
     "output_type": "display_data"
    }
   ],
   "source": [
    "import matplotlib.pyplot as plt \n",
    "import seaborn as sns \n",
    "\n",
    "\n",
    "# Plotting the distribution for categorical variables\n",
    "\n",
    "plt.figure(figsize=(20,20))\n",
    "plt.subplot(5,2,1)\n",
    "sns.countplot(df['education'])\n",
    "\n",
    "plt.subplot(5,2,2)\n",
    "sns.countplot(df['loan'])\n",
    "\n",
    "plt.subplot(5,2,3)\n",
    "sns.countplot(df['job'])\n",
    "\n",
    "plt.subplot(5,2,4)\n",
    "sns.countplot(df['default'])\n",
    "\n",
    "plt.subplot(5,2,9)\n",
    "sns.countplot(df['marital'])\n",
    "\n",
    "plt.subplot(5,2,6)\n",
    "sns.countplot(df['contact'])\n",
    "\n",
    "plt.subplot(5,2,7)\n",
    "sns.countplot(df['month'])\n",
    "\n",
    "plt.subplot(5,2,8)\n",
    "sns.countplot(df['housing'])\n",
    "\n",
    "plt.subplot(5,2,5)\n",
    "sns.countplot(df['day_of_week'])\n",
    "\n",
    "plt.subplot(5,2,6)\n",
    "sns.countplot(df['poutcome'])\n",
    "\n",
    "plt.subplot(5,2,10)\n",
    "sns.countplot(df['contact'])\n"
   ]
  },
  {
   "cell_type": "markdown",
   "metadata": {},
   "source": [
    "## Analysis on Categorical Variables\n",
    "- Looking at the graph, we can see that january and February are missing. Therefore, we can assume the bank will not make a campaign on these months.\n",
    "- May is the month where most campaigns were held\n",
    "\n",
    "- The bank only conduct the campaign on weekdays\n",
    "\n",
    "- Around 60% of the campaign was done through cellular call\n",
    "\n",
    "- From the column 'poutcome' and the data provided, most of the clients have not been contacted on previous campaigns. In addition, clients that had been contacted previously, mostly did not join our product/service.\n"
   ]
  },
  {
   "cell_type": "markdown",
   "metadata": {},
   "source": [
    "# EDA on Numerical Variables"
   ]
  },
  {
   "cell_type": "code",
   "execution_count": 12,
   "metadata": {},
   "outputs": [
    {
     "data": {
      "text/html": [
       "<div>\n",
       "<style scoped>\n",
       "    .dataframe tbody tr th:only-of-type {\n",
       "        vertical-align: middle;\n",
       "    }\n",
       "\n",
       "    .dataframe tbody tr th {\n",
       "        vertical-align: top;\n",
       "    }\n",
       "\n",
       "    .dataframe thead th {\n",
       "        text-align: right;\n",
       "    }\n",
       "</style>\n",
       "<table border=\"1\" class=\"dataframe\">\n",
       "  <thead>\n",
       "    <tr style=\"text-align: right;\">\n",
       "      <th></th>\n",
       "      <th>age</th>\n",
       "      <th>duration</th>\n",
       "      <th>campaign</th>\n",
       "      <th>pdays</th>\n",
       "      <th>previous</th>\n",
       "      <th>emp.var.rate</th>\n",
       "      <th>cons.price.idx</th>\n",
       "      <th>cons.conf.idx</th>\n",
       "      <th>euribor3m</th>\n",
       "      <th>nr.employed</th>\n",
       "    </tr>\n",
       "  </thead>\n",
       "  <tbody>\n",
       "    <tr>\n",
       "      <th>count</th>\n",
       "      <td>41188.00000</td>\n",
       "      <td>41188.000000</td>\n",
       "      <td>41188.000000</td>\n",
       "      <td>41188.000000</td>\n",
       "      <td>41188.000000</td>\n",
       "      <td>41188.000000</td>\n",
       "      <td>41188.000000</td>\n",
       "      <td>41188.000000</td>\n",
       "      <td>41188.000000</td>\n",
       "      <td>41188.000000</td>\n",
       "    </tr>\n",
       "    <tr>\n",
       "      <th>mean</th>\n",
       "      <td>40.02406</td>\n",
       "      <td>258.285010</td>\n",
       "      <td>2.567593</td>\n",
       "      <td>962.475454</td>\n",
       "      <td>0.172963</td>\n",
       "      <td>0.081886</td>\n",
       "      <td>93.575664</td>\n",
       "      <td>-40.502600</td>\n",
       "      <td>3.621291</td>\n",
       "      <td>5167.035911</td>\n",
       "    </tr>\n",
       "    <tr>\n",
       "      <th>std</th>\n",
       "      <td>10.42125</td>\n",
       "      <td>259.279249</td>\n",
       "      <td>2.770014</td>\n",
       "      <td>186.910907</td>\n",
       "      <td>0.494901</td>\n",
       "      <td>1.570960</td>\n",
       "      <td>0.578840</td>\n",
       "      <td>4.628198</td>\n",
       "      <td>1.734447</td>\n",
       "      <td>72.251528</td>\n",
       "    </tr>\n",
       "    <tr>\n",
       "      <th>min</th>\n",
       "      <td>17.00000</td>\n",
       "      <td>0.000000</td>\n",
       "      <td>1.000000</td>\n",
       "      <td>0.000000</td>\n",
       "      <td>0.000000</td>\n",
       "      <td>-3.400000</td>\n",
       "      <td>92.201000</td>\n",
       "      <td>-50.800000</td>\n",
       "      <td>0.634000</td>\n",
       "      <td>4963.600000</td>\n",
       "    </tr>\n",
       "    <tr>\n",
       "      <th>25%</th>\n",
       "      <td>32.00000</td>\n",
       "      <td>102.000000</td>\n",
       "      <td>1.000000</td>\n",
       "      <td>999.000000</td>\n",
       "      <td>0.000000</td>\n",
       "      <td>-1.800000</td>\n",
       "      <td>93.075000</td>\n",
       "      <td>-42.700000</td>\n",
       "      <td>1.344000</td>\n",
       "      <td>5099.100000</td>\n",
       "    </tr>\n",
       "    <tr>\n",
       "      <th>50%</th>\n",
       "      <td>38.00000</td>\n",
       "      <td>180.000000</td>\n",
       "      <td>2.000000</td>\n",
       "      <td>999.000000</td>\n",
       "      <td>0.000000</td>\n",
       "      <td>1.100000</td>\n",
       "      <td>93.749000</td>\n",
       "      <td>-41.800000</td>\n",
       "      <td>4.857000</td>\n",
       "      <td>5191.000000</td>\n",
       "    </tr>\n",
       "    <tr>\n",
       "      <th>75%</th>\n",
       "      <td>47.00000</td>\n",
       "      <td>319.000000</td>\n",
       "      <td>3.000000</td>\n",
       "      <td>999.000000</td>\n",
       "      <td>0.000000</td>\n",
       "      <td>1.400000</td>\n",
       "      <td>93.994000</td>\n",
       "      <td>-36.400000</td>\n",
       "      <td>4.961000</td>\n",
       "      <td>5228.100000</td>\n",
       "    </tr>\n",
       "    <tr>\n",
       "      <th>max</th>\n",
       "      <td>98.00000</td>\n",
       "      <td>4918.000000</td>\n",
       "      <td>56.000000</td>\n",
       "      <td>999.000000</td>\n",
       "      <td>7.000000</td>\n",
       "      <td>1.400000</td>\n",
       "      <td>94.767000</td>\n",
       "      <td>-26.900000</td>\n",
       "      <td>5.045000</td>\n",
       "      <td>5228.100000</td>\n",
       "    </tr>\n",
       "  </tbody>\n",
       "</table>\n",
       "</div>"
      ],
      "text/plain": [
       "               age      duration      campaign         pdays      previous  \\\n",
       "count  41188.00000  41188.000000  41188.000000  41188.000000  41188.000000   \n",
       "mean      40.02406    258.285010      2.567593    962.475454      0.172963   \n",
       "std       10.42125    259.279249      2.770014    186.910907      0.494901   \n",
       "min       17.00000      0.000000      1.000000      0.000000      0.000000   \n",
       "25%       32.00000    102.000000      1.000000    999.000000      0.000000   \n",
       "50%       38.00000    180.000000      2.000000    999.000000      0.000000   \n",
       "75%       47.00000    319.000000      3.000000    999.000000      0.000000   \n",
       "max       98.00000   4918.000000     56.000000    999.000000      7.000000   \n",
       "\n",
       "       emp.var.rate  cons.price.idx  cons.conf.idx     euribor3m   nr.employed  \n",
       "count  41188.000000    41188.000000   41188.000000  41188.000000  41188.000000  \n",
       "mean       0.081886       93.575664     -40.502600      3.621291   5167.035911  \n",
       "std        1.570960        0.578840       4.628198      1.734447     72.251528  \n",
       "min       -3.400000       92.201000     -50.800000      0.634000   4963.600000  \n",
       "25%       -1.800000       93.075000     -42.700000      1.344000   5099.100000  \n",
       "50%        1.100000       93.749000     -41.800000      4.857000   5191.000000  \n",
       "75%        1.400000       93.994000     -36.400000      4.961000   5228.100000  \n",
       "max        1.400000       94.767000     -26.900000      5.045000   5228.100000  "
      ]
     },
     "execution_count": 12,
     "metadata": {},
     "output_type": "execute_result"
    }
   ],
   "source": [
    "# General Stats of our Numerical Var.\n",
    "df.describe()"
   ]
  },
  {
   "cell_type": "code",
   "execution_count": 13,
   "metadata": {},
   "outputs": [
    {
     "data": {
      "text/plain": [
       "<AxesSubplot:>"
      ]
     },
     "execution_count": 13,
     "metadata": {},
     "output_type": "execute_result"
    },
    {
     "data": {
      "image/png": "[encoded data removed]",
      "text/plain": [
       "<Figure size 1080x1080 with 2 Axes>"
      ]
     },
     "metadata": {
      "needs_background": "light"
     },
     "output_type": "display_data"
    }
   ],
   "source": [
    "# Finding the most correlated variables to our target. In addition, finding multicolinearity within the variables.\n",
    "\n",
    "plt.figure(figsize=(15,15))\n",
    "\n",
    "sns.heatmap(df.corr(), annot=True, cmap='BuPu')"
   ]
  },
  {
   "cell_type": "code",
   "execution_count": 14,
   "metadata": {},
   "outputs": [
    {
     "data": {
      "text/plain": [
       "<AxesSubplot:xlabel='nr.employed'>"
      ]
     },
     "execution_count": 14,
     "metadata": {},
     "output_type": "execute_result"
    },
    {
     "data": {
      "image/png": "[encoded data removed]",
      "text/plain": [
       "<Figure size 1224x1224 with 10 Axes>"
      ]
     },
     "metadata": {
      "needs_background": "light"
     },
     "output_type": "display_data"
    }
   ],
   "source": [
    "\n",
    "fig, ax = plt.subplots(5,2, figsize=(17,17))\n",
    "\n",
    "sns.boxplot(df_eda['age'], ax=ax[0, 0])\n",
    "sns.boxplot(df_eda['duration'], ax=ax[0, 1])\n",
    "sns.boxplot(df_eda['campaign'], ax=ax[1, 0])\n",
    "sns.boxplot(df_eda['pdays'], ax=ax[1, 1])\n",
    "sns.boxplot(df_eda['previous'], ax=ax[2, 0])\n",
    "sns.boxplot(df_eda['emp.var.rate'], ax=ax[2, 1])\n",
    "sns.boxplot(df_eda['cons.price.idx'], ax=ax[3, 0])\n",
    "sns.boxplot(df_eda['cons.conf.idx'], ax=ax[3,1])\n",
    "sns.boxplot(df_eda['euribor3m'], ax=ax[4, 0])\n",
    "sns.boxplot(df_eda['nr.employed'], ax=ax[4, 1])"
   ]
  },
  {
   "cell_type": "code",
   "execution_count": 15,
   "metadata": {},
   "outputs": [
    {
     "data": {
      "text/plain": [
       "999    39673\n",
       "3        439\n",
       "6        412\n",
       "4        118\n",
       "9         64\n",
       "2         61\n",
       "7         60\n",
       "12        58\n",
       "10        52\n",
       "5         46\n",
       "13        36\n",
       "11        28\n",
       "1         26\n",
       "15        24\n",
       "14        20\n",
       "8         18\n",
       "0         15\n",
       "16        11\n",
       "17         8\n",
       "18         7\n",
       "19         3\n",
       "22         3\n",
       "21         2\n",
       "26         1\n",
       "20         1\n",
       "25         1\n",
       "27         1\n",
       "Name: pdays, dtype: int64"
      ]
     },
     "execution_count": 15,
     "metadata": {},
     "output_type": "execute_result"
    }
   ],
   "source": [
    "# Check why pdays boxplot is very sparse and different\n",
    "df_eda['pdays'].value_counts()"
   ]
  },
  {
   "cell_type": "code",
   "execution_count": 16,
   "metadata": {},
   "outputs": [
    {
     "data": {
      "text/plain": [
       "<AxesSubplot:title={'center':'Age Distribution'}>"
      ]
     },
     "execution_count": 16,
     "metadata": {},
     "output_type": "execute_result"
    },
    {
     "data": {
      "image/png": "[encoded data removed]",
      "text/plain": [
       "<Figure size 432x288 with 1 Axes>"
      ]
     },
     "metadata": {
      "needs_background": "light"
     },
     "output_type": "display_data"
    }
   ],
   "source": [
    "plt.title('Age Distribution')\n",
    "df['age'].hist()"
   ]
  },
  {
   "cell_type": "markdown",
   "metadata": {},
   "source": [
    "## Analysis:\n",
    "\n",
    "- From our statistic description:\n",
    "    - The age range is 17 to 98 years old\n",
    "        - The distribution shows that age 27 - 41 are the most targeted age group.\n",
    "\n",
    "    - There are extreme outliers in duration and number of campaigns being done to a client.\n",
    "    \n",
    "    - A lot of people were not contacted previosly (pdays & previous columns). This is shown in the boxplot where most data is 999. This value can be interpreted as missing values\n",
    "\n",
    "- From our heatmap:\n",
    "    - As stated on kaggle, duration is highly correlated with our target variable\n",
    "    - Social and economic context variables are correlated to each other (multicolinearity is present)\n",
    "\n",
    "- From our boxplot:\n",
    "    - We can see that our numerical variables have different scales therefore, we will do scaling to these features.\n",
    "    - Column 'age', 'duration', 'campaign' and 'cons.conf.idx' have outliers. \n",
    "    - For column 'previous' and 'pdays' shows extreme outliers and very skewed distribution however, if we see the value counts of each value in each column, most data only centered as 1 value\n",
    "        - pdays: Most value is 999 which means most clients were not contacted on the last campaign.\n",
    "        - previous: Most value is 0 meaning that most clients never been contacted on previous campaigns\n",
    "        \n",
    "\n"
   ]
  },
  {
   "cell_type": "markdown",
   "metadata": {},
   "source": [
    "# EDA on Target Variable"
   ]
  },
  {
   "cell_type": "code",
   "execution_count": 17,
   "metadata": {},
   "outputs": [
    {
     "data": {
      "text/plain": [
       "Text(0.5, 1.0, 'Target Counts')"
      ]
     },
     "execution_count": 17,
     "metadata": {},
     "output_type": "execute_result"
    },
    {
     "data": {
      "image/png": "[encoded data removed]",
      "text/plain": [
       "<Figure size 432x288 with 1 Axes>"
      ]
     },
     "metadata": {
      "needs_background": "light"
     },
     "output_type": "display_data"
    }
   ],
   "source": [
    "import seaborn as sns \n",
    "\n",
    "# Check whether our data is imbalanced or not\n",
    "\n",
    "sns.countplot(df['y'])\n",
    "plt.title('Target Counts')"
   ]
  },
  {
   "cell_type": "code",
   "execution_count": 18,
   "metadata": {},
   "outputs": [
    {
     "data": {
      "text/plain": [
       "Text(0.5, 1.0, 'Month by Target')"
      ]
     },
     "execution_count": 18,
     "metadata": {},
     "output_type": "execute_result"
    },
    {
     "data": {
      "image/png": "[encoded data removed]",
      "text/plain": [
       "<Figure size 432x288 with 1 Axes>"
      ]
     },
     "metadata": {
      "needs_background": "light"
     },
     "output_type": "display_data"
    }
   ],
   "source": [
    "\n",
    "sns.countplot(x='month',data=df_eda, hue='y_binary')\n",
    "plt.title('Month by Target')"
   ]
  },
  {
   "cell_type": "code",
   "execution_count": 19,
   "metadata": {},
   "outputs": [
    {
     "data": {
      "text/plain": [
       "array(['basic.4y', 'high.school', 'basic.6y', 'basic.9y',\n",
       "       'professional.course', 'unknown', 'university.degree',\n",
       "       'illiterate'], dtype=object)"
      ]
     },
     "execution_count": 19,
     "metadata": {},
     "output_type": "execute_result"
    }
   ],
   "source": [
    "df['education'].unique()"
   ]
  },
  {
   "cell_type": "code",
   "execution_count": 20,
   "metadata": {},
   "outputs": [
    {
     "data": {
      "image/png": "[encoded data removed]",
      "text/plain": [
       "<Figure size 1440x720 with 1 Axes>"
      ]
     },
     "metadata": {
      "needs_background": "light"
     },
     "output_type": "display_data"
    }
   ],
   "source": [
    "plt.figure(figsize=(20,10))\n",
    "\n",
    "g = sns.countplot(x='job',data=df_eda, hue='y_binary')\n",
    "\n",
    "g.set_xticklabels(labels=['housemaid', 'services', 'admin.', 'blue-collar', 'technician',\n",
    "       'retired', 'management', 'unemployed', 'self-employed', 'unknown',\n",
    "       'entrepreneur', 'student'],rotation=45)\n",
    "plt.title('Job by Target')\n",
    "plt.show()"
   ]
  },
  {
   "cell_type": "code",
   "execution_count": 21,
   "metadata": {},
   "outputs": [
    {
     "data": {
      "image/png": "[encoded data removed]",
      "text/plain": [
       "<Figure size 1440x720 with 1 Axes>"
      ]
     },
     "metadata": {
      "needs_background": "light"
     },
     "output_type": "display_data"
    }
   ],
   "source": [
    "plt.figure(figsize=(20,10))\n",
    "g = sns.countplot(x='education',data=df_eda, hue='y_binary')\n",
    "\n",
    "g.set_xticklabels(labels=['basic.4y', 'high.school', 'basic.6y', 'basic.9y',\n",
    "       'professional.course', 'unknown', 'university.degree',\n",
    "       'illiterate'],rotation=45)\n",
    "plt.title('Education by Target')\n",
    "plt.show()"
   ]
  },
  {
   "cell_type": "code",
   "execution_count": 22,
   "metadata": {},
   "outputs": [
    {
     "data": {
      "text/plain": [
       "Text(0.5, 1.0, 'Type of Contact by Target')"
      ]
     },
     "execution_count": 22,
     "metadata": {},
     "output_type": "execute_result"
    },
    {
     "data": {
      "image/png": "[encoded data removed]",
      "text/plain": [
       "<Figure size 1440x720 with 1 Axes>"
      ]
     },
     "metadata": {
      "needs_background": "light"
     },
     "output_type": "display_data"
    }
   ],
   "source": [
    "plt.figure(figsize=(20,10))\n",
    "sns.countplot(x='contact',data=df_eda, hue='y_binary')\n",
    "plt.title('Type of Contact by Target')"
   ]
  },
  {
   "cell_type": "code",
   "execution_count": 23,
   "metadata": {},
   "outputs": [
    {
     "data": {
      "text/html": [
       "<div>\n",
       "<style scoped>\n",
       "    .dataframe tbody tr th:only-of-type {\n",
       "        vertical-align: middle;\n",
       "    }\n",
       "\n",
       "    .dataframe tbody tr th {\n",
       "        vertical-align: top;\n",
       "    }\n",
       "\n",
       "    .dataframe thead th {\n",
       "        text-align: right;\n",
       "    }\n",
       "</style>\n",
       "<table border=\"1\" class=\"dataframe\">\n",
       "  <thead>\n",
       "    <tr style=\"text-align: right;\">\n",
       "      <th></th>\n",
       "      <th>apr</th>\n",
       "      <th>aug</th>\n",
       "      <th>dec</th>\n",
       "      <th>jul</th>\n",
       "      <th>jun</th>\n",
       "      <th>mar</th>\n",
       "      <th>may</th>\n",
       "      <th>nov</th>\n",
       "      <th>oct</th>\n",
       "      <th>sep</th>\n",
       "    </tr>\n",
       "  </thead>\n",
       "  <tbody>\n",
       "    <tr>\n",
       "      <th>month</th>\n",
       "      <td>2632.00</td>\n",
       "      <td>6178.0</td>\n",
       "      <td>182.00</td>\n",
       "      <td>7174.00</td>\n",
       "      <td>5318.00</td>\n",
       "      <td>546.00</td>\n",
       "      <td>13769.00</td>\n",
       "      <td>4101.00</td>\n",
       "      <td>718.00</td>\n",
       "      <td>570.00</td>\n",
       "    </tr>\n",
       "    <tr>\n",
       "      <th>%</th>\n",
       "      <td>6.39</td>\n",
       "      <td>15.0</td>\n",
       "      <td>0.44</td>\n",
       "      <td>17.42</td>\n",
       "      <td>12.91</td>\n",
       "      <td>1.33</td>\n",
       "      <td>33.43</td>\n",
       "      <td>9.96</td>\n",
       "      <td>1.74</td>\n",
       "      <td>1.38</td>\n",
       "    </tr>\n",
       "    <tr>\n",
       "      <th>Yes</th>\n",
       "      <td>539.00</td>\n",
       "      <td>655.0</td>\n",
       "      <td>89.00</td>\n",
       "      <td>649.00</td>\n",
       "      <td>559.00</td>\n",
       "      <td>276.00</td>\n",
       "      <td>886.00</td>\n",
       "      <td>416.00</td>\n",
       "      <td>315.00</td>\n",
       "      <td>256.00</td>\n",
       "    </tr>\n",
       "    <tr>\n",
       "      <th>%Yes</th>\n",
       "      <td>20.48</td>\n",
       "      <td>10.6</td>\n",
       "      <td>48.90</td>\n",
       "      <td>9.05</td>\n",
       "      <td>10.51</td>\n",
       "      <td>50.55</td>\n",
       "      <td>6.43</td>\n",
       "      <td>10.14</td>\n",
       "      <td>43.87</td>\n",
       "      <td>44.91</td>\n",
       "    </tr>\n",
       "  </tbody>\n",
       "</table>\n",
       "</div>"
      ],
      "text/plain": [
       "           apr     aug     dec      jul      jun     mar       may      nov  \\\n",
       "month  2632.00  6178.0  182.00  7174.00  5318.00  546.00  13769.00  4101.00   \n",
       "%         6.39    15.0    0.44    17.42    12.91    1.33     33.43     9.96   \n",
       "Yes     539.00   655.0   89.00   649.00   559.00  276.00    886.00   416.00   \n",
       "%Yes     20.48    10.6   48.90     9.05    10.51   50.55      6.43    10.14   \n",
       "\n",
       "          oct     sep  \n",
       "month  718.00  570.00  \n",
       "%        1.74    1.38  \n",
       "Yes    315.00  256.00  \n",
       "%Yes    43.87   44.91  "
      ]
     },
     "execution_count": 23,
     "metadata": {},
     "output_type": "execute_result"
    }
   ],
   "source": [
    "# Month/target distribution\n",
    "month = pd.DataFrame(df['month'].value_counts().sort_index())\n",
    "month['%'] = np.around(month['month']/month['month'].sum() * 100, 2)\n",
    "month['Yes'] = df.groupby(['y','month']).size()['yes'].values\n",
    "month['%Yes'] = np.around(month['Yes']/month['month']*100,2)\n",
    "month.T"
   ]
  },
  {
   "cell_type": "code",
   "execution_count": 24,
   "metadata": {},
   "outputs": [
    {
     "data": {
      "text/html": [
       "<div>\n",
       "<style scoped>\n",
       "    .dataframe tbody tr th:only-of-type {\n",
       "        vertical-align: middle;\n",
       "    }\n",
       "\n",
       "    .dataframe tbody tr th {\n",
       "        vertical-align: top;\n",
       "    }\n",
       "\n",
       "    .dataframe thead th {\n",
       "        text-align: right;\n",
       "    }\n",
       "</style>\n",
       "<table border=\"1\" class=\"dataframe\">\n",
       "  <thead>\n",
       "    <tr style=\"text-align: right;\">\n",
       "      <th></th>\n",
       "      <th>fri</th>\n",
       "      <th>mon</th>\n",
       "      <th>thu</th>\n",
       "      <th>tue</th>\n",
       "      <th>wed</th>\n",
       "    </tr>\n",
       "  </thead>\n",
       "  <tbody>\n",
       "    <tr>\n",
       "      <th>day_of_week</th>\n",
       "      <td>7827.00</td>\n",
       "      <td>8514.00</td>\n",
       "      <td>8623.00</td>\n",
       "      <td>8090.00</td>\n",
       "      <td>8134.00</td>\n",
       "    </tr>\n",
       "    <tr>\n",
       "      <th>%</th>\n",
       "      <td>19.00</td>\n",
       "      <td>20.67</td>\n",
       "      <td>20.94</td>\n",
       "      <td>19.64</td>\n",
       "      <td>19.75</td>\n",
       "    </tr>\n",
       "    <tr>\n",
       "      <th>Yes</th>\n",
       "      <td>846.00</td>\n",
       "      <td>847.00</td>\n",
       "      <td>1045.00</td>\n",
       "      <td>953.00</td>\n",
       "      <td>949.00</td>\n",
       "    </tr>\n",
       "    <tr>\n",
       "      <th>%Yes</th>\n",
       "      <td>10.81</td>\n",
       "      <td>9.95</td>\n",
       "      <td>12.12</td>\n",
       "      <td>11.78</td>\n",
       "      <td>11.67</td>\n",
       "    </tr>\n",
       "  </tbody>\n",
       "</table>\n",
       "</div>"
      ],
      "text/plain": [
       "                 fri      mon      thu      tue      wed\n",
       "day_of_week  7827.00  8514.00  8623.00  8090.00  8134.00\n",
       "%              19.00    20.67    20.94    19.64    19.75\n",
       "Yes           846.00   847.00  1045.00   953.00   949.00\n",
       "%Yes           10.81     9.95    12.12    11.78    11.67"
      ]
     },
     "execution_count": 24,
     "metadata": {},
     "output_type": "execute_result"
    }
   ],
   "source": [
    "# Day/target distribution\n",
    "day = pd.DataFrame(df['day_of_week'].value_counts().sort_index())\n",
    "day['%'] = np.around(day['day_of_week']/day['day_of_week'].sum() * 100, 2)\n",
    "day['Yes'] = df.groupby(['y','day_of_week']).size()['yes'].values\n",
    "day['%Yes'] = np.around(day['Yes']/day['day_of_week']*100,2)\n",
    "day.T"
   ]
  },
  {
   "cell_type": "code",
   "execution_count": 25,
   "metadata": {},
   "outputs": [
    {
     "data": {
      "text/html": [
       "<div>\n",
       "<style scoped>\n",
       "    .dataframe tbody tr th:only-of-type {\n",
       "        vertical-align: middle;\n",
       "    }\n",
       "\n",
       "    .dataframe tbody tr th {\n",
       "        vertical-align: top;\n",
       "    }\n",
       "\n",
       "    .dataframe thead th {\n",
       "        text-align: right;\n",
       "    }\n",
       "</style>\n",
       "<table border=\"1\" class=\"dataframe\">\n",
       "  <thead>\n",
       "    <tr style=\"text-align: right;\">\n",
       "      <th></th>\n",
       "      <th>admin.</th>\n",
       "      <th>blue-collar</th>\n",
       "      <th>entrepreneur</th>\n",
       "      <th>housemaid</th>\n",
       "      <th>management</th>\n",
       "      <th>retired</th>\n",
       "      <th>self-employed</th>\n",
       "      <th>services</th>\n",
       "      <th>student</th>\n",
       "      <th>technician</th>\n",
       "      <th>unemployed</th>\n",
       "      <th>unknown</th>\n",
       "    </tr>\n",
       "  </thead>\n",
       "  <tbody>\n",
       "    <tr>\n",
       "      <th>job</th>\n",
       "      <td>10422.00</td>\n",
       "      <td>9254.00</td>\n",
       "      <td>1456.00</td>\n",
       "      <td>1060.00</td>\n",
       "      <td>2924.00</td>\n",
       "      <td>1720.00</td>\n",
       "      <td>1421.00</td>\n",
       "      <td>3969.00</td>\n",
       "      <td>875.00</td>\n",
       "      <td>6743.00</td>\n",
       "      <td>1014.00</td>\n",
       "      <td>330.00</td>\n",
       "    </tr>\n",
       "    <tr>\n",
       "      <th>%</th>\n",
       "      <td>25.30</td>\n",
       "      <td>22.47</td>\n",
       "      <td>3.54</td>\n",
       "      <td>2.57</td>\n",
       "      <td>7.10</td>\n",
       "      <td>4.18</td>\n",
       "      <td>3.45</td>\n",
       "      <td>9.64</td>\n",
       "      <td>2.12</td>\n",
       "      <td>16.37</td>\n",
       "      <td>2.46</td>\n",
       "      <td>0.80</td>\n",
       "    </tr>\n",
       "    <tr>\n",
       "      <th>Yes</th>\n",
       "      <td>1352.00</td>\n",
       "      <td>638.00</td>\n",
       "      <td>124.00</td>\n",
       "      <td>106.00</td>\n",
       "      <td>328.00</td>\n",
       "      <td>434.00</td>\n",
       "      <td>149.00</td>\n",
       "      <td>323.00</td>\n",
       "      <td>275.00</td>\n",
       "      <td>730.00</td>\n",
       "      <td>144.00</td>\n",
       "      <td>37.00</td>\n",
       "    </tr>\n",
       "    <tr>\n",
       "      <th>%Yes</th>\n",
       "      <td>12.97</td>\n",
       "      <td>6.89</td>\n",
       "      <td>8.52</td>\n",
       "      <td>10.00</td>\n",
       "      <td>11.22</td>\n",
       "      <td>25.23</td>\n",
       "      <td>10.49</td>\n",
       "      <td>8.14</td>\n",
       "      <td>31.43</td>\n",
       "      <td>10.83</td>\n",
       "      <td>14.20</td>\n",
       "      <td>11.21</td>\n",
       "    </tr>\n",
       "  </tbody>\n",
       "</table>\n",
       "</div>"
      ],
      "text/plain": [
       "        admin.  blue-collar  entrepreneur  housemaid  management  retired  \\\n",
       "job   10422.00      9254.00       1456.00    1060.00     2924.00  1720.00   \n",
       "%        25.30        22.47          3.54       2.57        7.10     4.18   \n",
       "Yes    1352.00       638.00        124.00     106.00      328.00   434.00   \n",
       "%Yes     12.97         6.89          8.52      10.00       11.22    25.23   \n",
       "\n",
       "      self-employed  services  student  technician  unemployed  unknown  \n",
       "job         1421.00   3969.00   875.00     6743.00     1014.00   330.00  \n",
       "%              3.45      9.64     2.12       16.37        2.46     0.80  \n",
       "Yes          149.00    323.00   275.00      730.00      144.00    37.00  \n",
       "%Yes          10.49      8.14    31.43       10.83       14.20    11.21  "
      ]
     },
     "execution_count": 25,
     "metadata": {},
     "output_type": "execute_result"
    }
   ],
   "source": [
    "# Job/target distribution\n",
    "job = pd.DataFrame(df['job'].value_counts().sort_index())\n",
    "job['%'] = np.around(job['job']/job['job'].sum() * 100, 2)\n",
    "job['Yes'] = df.groupby(['y','job']).size()['yes'].values\n",
    "job['%Yes'] = np.around(job['Yes']/job['job']*100,2)\n",
    "job.T"
   ]
  },
  {
   "cell_type": "markdown",
   "metadata": {},
   "source": [
    "## Analysis\n",
    "\n",
    "- Our data is imbalance. The ratio of people joining our service is 8 to 1.\n",
    "\n",
    "- &emsp;&emsp;&emsp;By looking at the Month/Target Distribution table, we can see that 33.43% of our campaigns were conducted on May. However, it is clear that the amount of clients joining our service are not as much as other months with only 6.43% said yes while on other months the percentage of people joining is almost all are above 10%. This could be a reason for the business team to try conducting campaigns on other months such as March or December which have a percentage of yes of 50.55% and 48.9%, respectively.\n",
    "\n",
    "- &emsp;&emsp;&emsp;Similarly, on the job/yes distribution, admin and blue-collar are the most targeted jobs for these campaigns. However, if we look at students' data, they are more likely to join this type of service since students tend to be more thoughtful about their money and savings. In addition, retired people also gave a higher chance of joining. However, we will clarify further on our machine whether targeting students can improve our income. If this insight and action were to be supported, our bank could get 2.5 times more clients and 6 times more clients from retired people which could result increase of income.\n",
    "\n",
    "- On the weekday distribution, it does not matter when should we do the campaigns since they all have similar percentage.\n",
    "\n",
    "- &emsp;&emsp;&emsp;Furthermore, the type of contact is also crucial. It is supported by the countplot above that more people are likely to join after being contacted through cellular rather than telephone."
   ]
  },
  {
   "cell_type": "code",
   "execution_count": null,
   "metadata": {},
   "outputs": [],
   "source": []
  },
  {
   "cell_type": "markdown",
   "metadata": {},
   "source": [
    "# The Chosen Approach\n",
    "\n",
    "1. Feature Engineering\n",
    "\n",
    "- From our evaluation, adding feature engineering and dropping 3 columns (duration, pdays, default) increase the performance of our models\n",
    "\n",
    "2. Resampling\n",
    "\n",
    "- After doing different methods of resampling, the best resampling method for this problem is Random Undersampling.\n",
    "\n",
    "3. Data Preprocessing\n",
    "\n",
    "- Creating pipeline for tree-based and non-tree-based models\n",
    "    - tree-based : exclude Scaling since they do not need scaled features\n",
    "    - non-tree-based : include scaling\n",
    "\n",
    "4. Modeling\n",
    "\n",
    "- We chose 4 models as our candidate (Logistic Regression, KNN, Random Forest & XGBoost). There are no particular reason on choosing them but we wanted to have 2 tree-based models and 2 non-tree-based models for comparison purposes.\n",
    "\n",
    "5. Evaluation\n",
    "\n",
    "- As stated above on our problem understanding, we will focus more on recall. The idea behind it is we want to minimise the misclassification of people actually wanted to join. This type of error will cost our bank a lot; It will result in an income loss from our potential clients.\n",
    "\n",
    "NOTE: In this notebook, we will only include the final approach that is best for the project. For further details on the reasoning of our decision making, we could show the thought process and outcomes of all steps on the presentation day.\n",
    "\n",
    "As to what have been done:\n",
    "- Tried different resampling method (RandomOversampling, SMOTENC, RandomUnderSampling)\n",
    "- Different preprocessing steps and feature engineering"
   ]
  },
  {
   "cell_type": "code",
   "execution_count": 26,
   "metadata": {},
   "outputs": [],
   "source": [
    "# Importing all the libraries and packages that are used\n",
    "\n",
    "# Resampling\n",
    "from imblearn.under_sampling import RandomUnderSampler\n",
    "\n",
    "# Preprocess\n",
    "from sklearn.impute import SimpleImputer\n",
    "from sklearn.preprocessing import RobustScaler, StandardScaler, OneHotEncoder\n",
    "from sklearn.compose import ColumnTransformer\n",
    "from sklearn.pipeline import Pipeline\n",
    "\n",
    "# Modeling\n",
    "from sklearn.linear_model import LogisticRegression\n",
    "from xgboost import XGBClassifier\n",
    "from sklearn.neighbors import KNeighborsClassifier\n",
    "from sklearn.ensemble import RandomForestClassifier\n",
    "\n",
    "from sklearn.metrics import accuracy_score, precision_score, recall_score, f1_score, fbeta_score, plot_roc_curve\n",
    "from sklearn.model_selection import train_test_split, cross_val_score, GridSearchCV,RandomizedSearchCV, StratifiedKFold\n"
   ]
  },
  {
   "cell_type": "markdown",
   "metadata": {},
   "source": [
    "# FEATURE ENGINEERING\n",
    "\n",
    "- We tried binning the age column into multiple categories \n",
    "\n",
    "- Age ( 17 - 98 ):\n",
    "    - 10 - 19   : 'Adolescence'\n",
    "    - 20 - 29   : 'Early Adulthood'\n",
    "    - 30 - 39   : 'Adulthood'\n",
    "    - 40 - 59   : 'Middle Age'\n",
    "    - 60 - 100  : 'Elders'\n",
    "\n",
    "(source: https://www.myagecalculator.com/blog/life-stages-and-age-groups-40#:~:text=Age%20Categories%201%20Childhood.%20During%20this%20life%20stage%2C,start%20experiencing%20the%20first%20signs%20of%20aging%20)\n",
    "\n",
    "------------------------------------------------------------------\n",
    "\n",
    "\n",
    "- In addition, we combine several values on column 'education'\n",
    "    - we combine basic.4y, basic.6y, basic.9y into 1 value which is 'basic'. From the source below, it is stated that basic school last for 9 years therefore, we combine 4y-9y into one value.\n",
    "\n",
    "(source: https://eacea.ec.europa.eu/national-policies/eurydice/content/single-structure-education-integrated-primary-and-lower-secondary-education-24_en)\n",
    "\n",
    "-----------------------------------------------------------------\n",
    "\n",
    "\n",
    "- Dropping pdays since most values are 999 in which takes around 90% of the data. Furthermore, the value 999 does not give us information since it represents that the client has not been contacted on the last campaign.\n",
    "\n",
    "- Going with the same reasoning, dropping 'default' will likely not affect our model too much since the proportion of people having a credit default with people not having a credit is very extreme."
   ]
  },
  {
   "cell_type": "code",
   "execution_count": 27,
   "metadata": {},
   "outputs": [],
   "source": [
    "# replace basic.4y, basic.6y, basic.9y into basic only\n",
    "\n",
    "df_fe = df.copy()\n",
    "\n",
    "#mapping our target var. into numerical\n",
    "df_fe['y'] = df_fe['y'].apply(lambda x: 1 if x=='yes' else 0)\n",
    "\n",
    "#dropping the uneccessary columns\n",
    "df_fe.drop(['pdays','default','duration'],axis=1, inplace=True)\n",
    "\n",
    "\n",
    "#function for combining education values\n",
    "def replace_basic(x):\n",
    "    if x == 'basic.4y' or x == 'basic.6y' or x == 'basic.9y':\n",
    "        return 'basic'\n",
    "    else:\n",
    "        return x\n",
    "\n",
    "df_fe['education'] = df_fe['education'].apply(replace_basic)"
   ]
  },
  {
   "cell_type": "code",
   "execution_count": 28,
   "metadata": {},
   "outputs": [
    {
     "data": {
      "text/html": [
       "<div>\n",
       "<style scoped>\n",
       "    .dataframe tbody tr th:only-of-type {\n",
       "        vertical-align: middle;\n",
       "    }\n",
       "\n",
       "    .dataframe tbody tr th {\n",
       "        vertical-align: top;\n",
       "    }\n",
       "\n",
       "    .dataframe thead th {\n",
       "        text-align: right;\n",
       "    }\n",
       "</style>\n",
       "<table border=\"1\" class=\"dataframe\">\n",
       "  <thead>\n",
       "    <tr style=\"text-align: right;\">\n",
       "      <th></th>\n",
       "      <th>age</th>\n",
       "      <th>job</th>\n",
       "      <th>marital</th>\n",
       "      <th>education</th>\n",
       "      <th>housing</th>\n",
       "      <th>loan</th>\n",
       "      <th>contact</th>\n",
       "      <th>month</th>\n",
       "      <th>day_of_week</th>\n",
       "      <th>campaign</th>\n",
       "      <th>previous</th>\n",
       "      <th>poutcome</th>\n",
       "      <th>emp.var.rate</th>\n",
       "      <th>cons.price.idx</th>\n",
       "      <th>cons.conf.idx</th>\n",
       "      <th>euribor3m</th>\n",
       "      <th>nr.employed</th>\n",
       "      <th>y</th>\n",
       "    </tr>\n",
       "  </thead>\n",
       "  <tbody>\n",
       "    <tr>\n",
       "      <th>0</th>\n",
       "      <td>Middle Age</td>\n",
       "      <td>housemaid</td>\n",
       "      <td>married</td>\n",
       "      <td>basic</td>\n",
       "      <td>no</td>\n",
       "      <td>no</td>\n",
       "      <td>telephone</td>\n",
       "      <td>may</td>\n",
       "      <td>mon</td>\n",
       "      <td>1</td>\n",
       "      <td>0</td>\n",
       "      <td>nonexistent</td>\n",
       "      <td>1.1</td>\n",
       "      <td>93.994</td>\n",
       "      <td>-36.4</td>\n",
       "      <td>4.857</td>\n",
       "      <td>5191.0</td>\n",
       "      <td>0</td>\n",
       "    </tr>\n",
       "    <tr>\n",
       "      <th>1</th>\n",
       "      <td>Middle Age</td>\n",
       "      <td>services</td>\n",
       "      <td>married</td>\n",
       "      <td>high.school</td>\n",
       "      <td>no</td>\n",
       "      <td>no</td>\n",
       "      <td>telephone</td>\n",
       "      <td>may</td>\n",
       "      <td>mon</td>\n",
       "      <td>1</td>\n",
       "      <td>0</td>\n",
       "      <td>nonexistent</td>\n",
       "      <td>1.1</td>\n",
       "      <td>93.994</td>\n",
       "      <td>-36.4</td>\n",
       "      <td>4.857</td>\n",
       "      <td>5191.0</td>\n",
       "      <td>0</td>\n",
       "    </tr>\n",
       "    <tr>\n",
       "      <th>2</th>\n",
       "      <td>Adulthood</td>\n",
       "      <td>services</td>\n",
       "      <td>married</td>\n",
       "      <td>high.school</td>\n",
       "      <td>yes</td>\n",
       "      <td>no</td>\n",
       "      <td>telephone</td>\n",
       "      <td>may</td>\n",
       "      <td>mon</td>\n",
       "      <td>1</td>\n",
       "      <td>0</td>\n",
       "      <td>nonexistent</td>\n",
       "      <td>1.1</td>\n",
       "      <td>93.994</td>\n",
       "      <td>-36.4</td>\n",
       "      <td>4.857</td>\n",
       "      <td>5191.0</td>\n",
       "      <td>0</td>\n",
       "    </tr>\n",
       "    <tr>\n",
       "      <th>3</th>\n",
       "      <td>Middle Age</td>\n",
       "      <td>admin.</td>\n",
       "      <td>married</td>\n",
       "      <td>basic</td>\n",
       "      <td>no</td>\n",
       "      <td>no</td>\n",
       "      <td>telephone</td>\n",
       "      <td>may</td>\n",
       "      <td>mon</td>\n",
       "      <td>1</td>\n",
       "      <td>0</td>\n",
       "      <td>nonexistent</td>\n",
       "      <td>1.1</td>\n",
       "      <td>93.994</td>\n",
       "      <td>-36.4</td>\n",
       "      <td>4.857</td>\n",
       "      <td>5191.0</td>\n",
       "      <td>0</td>\n",
       "    </tr>\n",
       "    <tr>\n",
       "      <th>4</th>\n",
       "      <td>Middle Age</td>\n",
       "      <td>services</td>\n",
       "      <td>married</td>\n",
       "      <td>high.school</td>\n",
       "      <td>no</td>\n",
       "      <td>yes</td>\n",
       "      <td>telephone</td>\n",
       "      <td>may</td>\n",
       "      <td>mon</td>\n",
       "      <td>1</td>\n",
       "      <td>0</td>\n",
       "      <td>nonexistent</td>\n",
       "      <td>1.1</td>\n",
       "      <td>93.994</td>\n",
       "      <td>-36.4</td>\n",
       "      <td>4.857</td>\n",
       "      <td>5191.0</td>\n",
       "      <td>0</td>\n",
       "    </tr>\n",
       "  </tbody>\n",
       "</table>\n",
       "</div>"
      ],
      "text/plain": [
       "          age        job  marital    education housing loan    contact month  \\\n",
       "0  Middle Age  housemaid  married        basic      no   no  telephone   may   \n",
       "1  Middle Age   services  married  high.school      no   no  telephone   may   \n",
       "2   Adulthood   services  married  high.school     yes   no  telephone   may   \n",
       "3  Middle Age     admin.  married        basic      no   no  telephone   may   \n",
       "4  Middle Age   services  married  high.school      no  yes  telephone   may   \n",
       "\n",
       "  day_of_week  campaign  previous     poutcome  emp.var.rate  cons.price.idx  \\\n",
       "0         mon         1         0  nonexistent           1.1          93.994   \n",
       "1         mon         1         0  nonexistent           1.1          93.994   \n",
       "2         mon         1         0  nonexistent           1.1          93.994   \n",
       "3         mon         1         0  nonexistent           1.1          93.994   \n",
       "4         mon         1         0  nonexistent           1.1          93.994   \n",
       "\n",
       "   cons.conf.idx  euribor3m  nr.employed  y  \n",
       "0          -36.4      4.857       5191.0  0  \n",
       "1          -36.4      4.857       5191.0  0  \n",
       "2          -36.4      4.857       5191.0  0  \n",
       "3          -36.4      4.857       5191.0  0  \n",
       "4          -36.4      4.857       5191.0  0  "
      ]
     },
     "execution_count": 28,
     "metadata": {},
     "output_type": "execute_result"
    }
   ],
   "source": [
    "# Binning Age \n",
    "bins = [10,19,29,39,59,100]\n",
    "labels = ['Adolescence', 'Early Adulthood','Adulthood','Middle Age', 'Elders']\n",
    "\n",
    "df_fe['age'] = pd.cut(df_fe['age'], bins, labels = labels)\n",
    "df_fe.head()"
   ]
  },
  {
   "cell_type": "code",
   "execution_count": 29,
   "metadata": {},
   "outputs": [
    {
     "data": {
      "text/plain": [
       "Middle Age         17388\n",
       "Adulthood          16938\n",
       "Early Adulthood     5594\n",
       "Elders              1193\n",
       "Adolescence           75\n",
       "Name: age, dtype: int64"
      ]
     },
     "execution_count": 29,
     "metadata": {},
     "output_type": "execute_result"
    }
   ],
   "source": [
    "# Check the counts\n",
    "df_fe['age'].value_counts()"
   ]
  },
  {
   "cell_type": "code",
   "execution_count": 30,
   "metadata": {},
   "outputs": [
    {
     "data": {
      "text/plain": [
       "basic                  12513\n",
       "university.degree      12168\n",
       "high.school             9515\n",
       "professional.course     5243\n",
       "unknown                 1731\n",
       "illiterate                18\n",
       "Name: education, dtype: int64"
      ]
     },
     "execution_count": 30,
     "metadata": {},
     "output_type": "execute_result"
    }
   ],
   "source": [
    "df_fe['education'].value_counts()"
   ]
  },
  {
   "cell_type": "markdown",
   "metadata": {},
   "source": [
    "# DATA PREPROCESSING\n",
    "\n",
    "1. The first step of our preprocessing is to balance the data. As shown on our EDA, our minority class is the positive class which is 'yes'. We will use random oversampling as our method of resampling.\n",
    "\n",
    "2. Secondly, we will impute all the missing values. Although there are no NA in our data, there are values that can be categorised as missing which are 'unknown' on several categorical variables and value 999 on 'pdays'. However, pdays is dropped. We used simple imputer as our method and fill the missing values using the most frequent data on each columns\n",
    "\n",
    "    - Impute \n",
    "        - Job\n",
    "        - marital\n",
    "        - education\n",
    "        - housing\n",
    "        - loan\n",
    "\n",
    "3. Scaling the data.\n",
    "    - There are several columns that have outliers therefore, we will use RobustScaler for them while StandardScaler for the rest of the numerical variables.\n",
    "\n",
    "4. Encoding\n",
    "    - We will use OneHotEncoder for all categorical variables.\n",
    "\n",
    "    - Eventhough we have column education that most of the time should be encoded as ordinal, our data has a arbitrary value 'professional course'. We assume that this value can act as lower than university degree but at the same time it can also be more important than university degree. Therefore, it is best to just use OneHotEncoder."
   ]
  },
  {
   "cell_type": "code",
   "execution_count": 31,
   "metadata": {},
   "outputs": [],
   "source": [
    "# Splitting the data\n",
    "X = df_fe.drop('y', axis=1)\n",
    "y = df_fe['y']\n",
    "\n",
    "X_train_fe, X_test_fe, y_train_fe, y_test_fe = train_test_split(X,y, test_size=0.2, stratify=y,random_state=22)"
   ]
  },
  {
   "cell_type": "code",
   "execution_count": 32,
   "metadata": {},
   "outputs": [],
   "source": [
    "# Balancing using RandomOversampler\n",
    "os = RandomUnderSampler(random_state=22)\n",
    "\n",
    "X_train_us, y_train_us = os.fit_resample(X_train_fe, y_train_fe)"
   ]
  },
  {
   "cell_type": "code",
   "execution_count": 33,
   "metadata": {},
   "outputs": [],
   "source": [
    "# define each columns\n",
    "robust_cols = ['campaign', 'previous']\n",
    "standard_cols = ['emp.var.rate', 'cons.price.idx', 'cons.conf.idx', 'euribor3m', 'nr.employed']\n",
    "simp_imp_onehot_cols = ['age','education','marital', 'housing', 'loan', 'contact', 'poutcome', 'day_of_week', 'job','month']\n",
    "\n",
    "# pipeline for imputer + onehot encoder\n",
    "simp_imp_onehot_pipeline = Pipeline([\n",
    "    ('simp_imp', SimpleImputer(missing_values='unknown', strategy='most_frequent')),\n",
    "    ('onehot_simp_imp', OneHotEncoder(handle_unknown='ignore'))\n",
    "])\n",
    "\n",
    "\n",
    "# Full pipeline (column transformer)\n",
    "full_pipeline = ColumnTransformer([\n",
    "    ('robust_scaler', RobustScaler(), robust_cols),\n",
    "    ('standard_scaler', StandardScaler(), standard_cols),\n",
    "    ('simp_imp_onehot_pipeline', simp_imp_onehot_pipeline, simp_imp_onehot_cols)])\n",
    "\n",
    "# Pipeline for tree-based model ( No scaler for interpretation purposes)\n",
    "tree_pipeline = ColumnTransformer([\n",
    "    ('simp_imp_onehot_pipeline', simp_imp_onehot_pipeline, simp_imp_onehot_cols)],\n",
    "    remainder='passthrough')\n",
    "\n",
    "X_train_fe_prep = pd.DataFrame(full_pipeline.fit_transform(X_train_us))\n",
    "X_test_fe_prep = pd.DataFrame(full_pipeline.transform(X_test_fe))\n",
    "\n",
    "X_train_fe_prep_tree = pd.DataFrame(tree_pipeline.fit_transform(X_train_us))\n",
    "X_test_fe_prep_tree = pd.DataFrame(tree_pipeline.transform(X_test_fe))"
   ]
  },
  {
   "cell_type": "code",
   "execution_count": 34,
   "metadata": {},
   "outputs": [],
   "source": [
    "# Get features names (For Feature Importance Purposes)\n",
    "\n",
    "num_cols = ['campaign', 'previous', 'emp.var.rate', 'cons.price.idx', 'cons.conf.idx', 'euribor3m', 'nr.employed']\n",
    "\n",
    "features_nt = robust_cols + standard_cols + list(full_pipeline.transformers_[2][1][1].get_feature_names())\n",
    "features_tb = list(tree_pipeline.transformers_[0][1][1].get_feature_names()) + num_cols\n",
    "\n",
    "# features name not tree\n",
    "X_train_fe_prep.columns = features_nt\n",
    "X_test_fe_prep.columns = features_nt\n",
    "\n",
    "# features name tree base\n",
    "X_train_fe_prep_tree.columns = features_tb\n",
    "X_test_fe_prep_tree.columns = features_tb\n"
   ]
  },
  {
   "cell_type": "markdown",
   "metadata": {},
   "source": [
    "# MODELING\n",
    "\n",
    "- For our project we will use 4 models:\n",
    "    - Logistic Regression\n",
    "    - KNN\n",
    "    - RandomForest\n",
    "    - XGBoost\n",
    "\n",
    "- These 4 models will be trained as is then we will also perform hyperparameter tuning for each models. Then we will evaluate if the tuned model performs better than the base model.\n",
    "\n",
    "- In the end, we will choose 1 model as our best model which then will be used for our user."
   ]
  },
  {
   "cell_type": "markdown",
   "metadata": {},
   "source": [
    "# Baseline Model"
   ]
  },
  {
   "cell_type": "markdown",
   "metadata": {},
   "source": [
    "## Logistic Regression"
   ]
  },
  {
   "cell_type": "code",
   "execution_count": 35,
   "metadata": {},
   "outputs": [
    {
     "name": "stdout",
     "output_type": "stream",
     "text": [
      "Baseline Logistic Regression: \n",
      "Performance on train set\n",
      "Accuracy:  0.7394935344827587\n",
      "Precision:  0.8038277511961722\n",
      "Recall:  0.6336206896551724\n",
      "F1:  0.7086471828864116\n",
      "F2:  0.6616405986272081\n",
      "\n",
      "\n",
      "Mean Accuracy CV:  0.7384163286050078\n",
      "Mean Recall CV:  0.6344295182711597\n"
     ]
    }
   ],
   "source": [
    "lr_fe = LogisticRegression()\n",
    "\n",
    "lr_fe.fit(X_train_fe_prep, y_train_us)\n",
    "\n",
    "print('Baseline Logistic Regression: ')\n",
    "y_pred = lr_fe.predict(X_train_fe_prep)\n",
    "print('Performance on train set')\n",
    "print('Accuracy: ', accuracy_score(y_train_us, y_pred))\n",
    "print('Precision: ', precision_score(y_train_us, y_pred))\n",
    "print('Recall: ', recall_score(y_train_us, y_pred))\n",
    "print('F1: ', f1_score(y_train_us, y_pred))\n",
    "print('F2: ', fbeta_score(y_train_us, y_pred, beta=2))\n",
    "print('\\n')\n",
    "print('Mean Accuracy CV: ',cross_val_score(lr_fe, X_train_fe_prep, y_train_us).mean())\n",
    "print('Mean Recall CV: ', cross_val_score(lr_fe, X_train_fe_prep, y_train_us, scoring='recall').mean())"
   ]
  },
  {
   "cell_type": "markdown",
   "metadata": {},
   "source": [
    "## KNN"
   ]
  },
  {
   "cell_type": "code",
   "execution_count": 36,
   "metadata": {},
   "outputs": [
    {
     "name": "stdout",
     "output_type": "stream",
     "text": [
      "Baseline KNN: \n",
      "Performance on train set\n",
      "Accuracy:  0.8009159482758621\n",
      "Precision:  0.8213463751438435\n",
      "Recall:  0.7691271551724138\n",
      "F1:  0.7943795214245964\n",
      "F2:  0.7790329622353197\n",
      "\n",
      "\n",
      "Mean Accuracy CV:  0.7384163286050078\n",
      "Mean Recall CV:  0.6344295182711597\n"
     ]
    }
   ],
   "source": [
    "\n",
    "knn = KNeighborsClassifier()\n",
    "knn.fit(X_train_fe_prep, y_train_us)\n",
    "print('Baseline KNN: ')\n",
    "y_pred = knn.predict(X_train_fe_prep)\n",
    "print('Performance on train set')\n",
    "print('Accuracy: ', accuracy_score(y_train_us, y_pred))\n",
    "print('Precision: ', precision_score(y_train_us, y_pred))\n",
    "print('Recall: ', recall_score(y_train_us, y_pred))\n",
    "print('F1: ', f1_score(y_train_us, y_pred))\n",
    "print('F2: ', fbeta_score(y_train_us, y_pred, beta=2))\n",
    "print('\\n')\n",
    "print('Mean Accuracy CV: ',cross_val_score(lr_fe, X_train_fe_prep, y_train_us).mean())\n",
    "print('Mean Recall CV: ', cross_val_score(lr_fe, X_train_fe_prep, y_train_us, scoring='recall').mean())"
   ]
  },
  {
   "cell_type": "markdown",
   "metadata": {},
   "source": [
    "## Random Forest"
   ]
  },
  {
   "cell_type": "code",
   "execution_count": 37,
   "metadata": {},
   "outputs": [
    {
     "name": "stdout",
     "output_type": "stream",
     "text": [
      "Baseline Random Forest: \n",
      "Performance on train set\n",
      "Accuracy:  0.9834321120689655\n",
      "Precision:  0.9880337231438673\n",
      "Recall:  0.9787176724137931\n",
      "F1:  0.9833536337799432\n",
      "F2:  0.9805668016194333\n",
      "\n",
      "\n",
      "Mean Accuracy CV:  0.7334322560737655\n",
      "Mean Recall CV:  0.6514037576228084\n"
     ]
    }
   ],
   "source": [
    "rf_fe = RandomForestClassifier(random_state=22)\n",
    "rf_fe.fit(X_train_fe_prep_tree, y_train_us)\n",
    "print('Baseline Random Forest: ')\n",
    "y_pred = rf_fe.predict(X_train_fe_prep_tree)\n",
    "print('Performance on train set')\n",
    "print('Accuracy: ', accuracy_score(y_train_us, y_pred))\n",
    "print('Precision: ', precision_score(y_train_us, y_pred))\n",
    "print('Recall: ', recall_score(y_train_us, y_pred))\n",
    "print('F1: ', f1_score(y_train_us, y_pred))\n",
    "print('F2: ', fbeta_score(y_train_us, y_pred, beta=2))\n",
    "print('\\n')\n",
    "print('Mean Accuracy CV: ',cross_val_score(lr_fe, X_train_fe_prep_tree, y_train_us).mean())\n",
    "print('Mean Recall CV: ', cross_val_score(lr_fe, X_train_fe_prep_tree, y_train_us, scoring='recall').mean())"
   ]
  },
  {
   "cell_type": "markdown",
   "metadata": {},
   "source": [
    "# Extreme Gradient Boost (XGB)"
   ]
  },
  {
   "cell_type": "code",
   "execution_count": 38,
   "metadata": {},
   "outputs": [
    {
     "name": "stdout",
     "output_type": "stream",
     "text": [
      "Baseline XGB: \n",
      "Performance on train set\n",
      "Accuracy:  0.8362068965517241\n",
      "Precision:  0.902321083172147\n",
      "Recall:  0.7540409482758621\n",
      "F1:  0.8215438802465511\n",
      "F2:  0.7796657381615599\n",
      "\n",
      "\n",
      "Mean Accuracy CV:  0.7334322560737655\n",
      "Mean Recall CV:  0.6514037576228084\n"
     ]
    }
   ],
   "source": [
    "xgb_fe = XGBClassifier(random_state=22, verbosity=0)\n",
    "xgb_fe.fit(X_train_fe_prep_tree, y_train_us)\n",
    "\n",
    "print('Baseline XGB: ')\n",
    "y_pred = xgb_fe.predict(X_train_fe_prep_tree)\n",
    "print('Performance on train set')\n",
    "print('Accuracy: ', accuracy_score(y_train_us, y_pred))\n",
    "print('Precision: ', precision_score(y_train_us, y_pred))\n",
    "print('Recall: ', recall_score(y_train_us, y_pred))\n",
    "print('F1: ', f1_score(y_train_us, y_pred))\n",
    "print('F2: ', fbeta_score(y_train_us, y_pred, beta=2))\n",
    "print('\\n')\n",
    "print('Mean Accuracy CV: ',cross_val_score(lr_fe, X_train_fe_prep_tree, y_train_us).mean())\n",
    "print('Mean Recall CV: ', cross_val_score(lr_fe, X_train_fe_prep_tree, y_train_us, scoring='recall').mean())"
   ]
  },
  {
   "cell_type": "markdown",
   "metadata": {},
   "source": [
    "# HYPERPARAMETER TUNING\n",
    "\n",
    "- In this process, we will tune all models. The reason behind it is to see whether any improvements are made between the baseline model and the tuned model.\n",
    "\n",
    "- The best model is chosen by picking the best evaluation metrics (Train Scores after tuning + CV scores + Test Scores + AUC Test)"
   ]
  },
  {
   "cell_type": "markdown",
   "metadata": {},
   "source": [
    "## Logistic Regression (Tuned)"
   ]
  },
  {
   "cell_type": "code",
   "execution_count": 39,
   "metadata": {},
   "outputs": [
    {
     "data": {
      "text/plain": [
       "LogisticRegression(C=0.01, fit_intercept=False, penalty='l1',\n",
       "                   solver='liblinear')"
      ]
     },
     "execution_count": 39,
     "metadata": {},
     "output_type": "execute_result"
    }
   ],
   "source": [
    "param_grid = {\n",
    "    'penalty' : ['l1', 'l2', 'elasticnet'],\n",
    "    'C' : [0.01,0.1,1,10,100],\n",
    "    'fit_intercept' : [False, True],\n",
    "    'solver' : ['lbfgs', 'liblinear'],\n",
    "    'multi_class' : ['auto', 'ovr', 'multinomial']\n",
    "}\n",
    "\n",
    "grid_search_lr = GridSearchCV(\n",
    "    estimator=LogisticRegression(),\n",
    "    param_grid=param_grid,\n",
    "    cv=StratifiedKFold(n_splits=2, random_state=22, shuffle=True),\n",
    "    n_jobs=-1,\n",
    "    scoring='recall'\n",
    ")\n",
    "\n",
    "grid_search_lr.fit(X_train_fe_prep, y_train_us)\n",
    "\n",
    "# Get the best parameter\n",
    "final_lr = grid_search_lr.best_estimator_\n",
    "final_lr"
   ]
  },
  {
   "cell_type": "code",
   "execution_count": 40,
   "metadata": {},
   "outputs": [
    {
     "name": "stdout",
     "output_type": "stream",
     "text": [
      "Tuned Logistic Regression: \n",
      "Performance on train set\n",
      "Accuracy:  0.7244073275862069\n",
      "Precision:  0.7302377003869541\n",
      "Recall:  0.7117456896551724\n",
      "F1:  0.7208731241473396\n",
      "F2:  0.7153687858767465\n",
      "\n",
      "\n",
      "Mean Accuracy CV:  0.7218499460008894\n",
      "Mean Recall CV:  0.7130943613891378\n"
     ]
    }
   ],
   "source": [
    "final_lr.fit(X_train_fe_prep, y_train_us)\n",
    "\n",
    "print('Tuned Logistic Regression: ')\n",
    "y_pred = final_lr.predict(X_train_fe_prep)\n",
    "print('Performance on train set')\n",
    "print('Accuracy: ', accuracy_score(y_train_us, y_pred))\n",
    "print('Precision: ', precision_score(y_train_us, y_pred))\n",
    "print('Recall: ', recall_score(y_train_us, y_pred))\n",
    "print('F1: ', f1_score(y_train_us, y_pred))\n",
    "print('F2: ', fbeta_score(y_train_us, y_pred, beta=2))\n",
    "print('\\n')\n",
    "print('Mean Accuracy CV: ',cross_val_score(final_lr, X_train_fe_prep, y_train_us).mean())\n",
    "print('Mean Recall CV: ', cross_val_score(final_lr, X_train_fe_prep, y_train_us, scoring='recall').mean())"
   ]
  },
  {
   "cell_type": "code",
   "execution_count": 41,
   "metadata": {},
   "outputs": [
    {
     "name": "stdout",
     "output_type": "stream",
     "text": [
      "Performance on test set (Tuned LogReg)\n",
      "Accuracy:  0.7259043457149794\n",
      "Precision:  0.24598930481283424\n",
      "Recall:  0.6939655172413793\n",
      "F1:  0.3632261703327694\n",
      "F2:  0.5086887835703001\n"
     ]
    }
   ],
   "source": [
    "print('Performance on test set (Tuned LogReg)')\n",
    "y_pred_test = final_lr.predict(X_test_fe_prep)\n",
    "print('Accuracy: ', accuracy_score(y_test_fe, y_pred_test))\n",
    "print('Precision: ', precision_score(y_test_fe, y_pred_test))\n",
    "print('Recall: ', recall_score(y_test_fe, y_pred_test))\n",
    "print('F1: ', f1_score(y_test_fe, y_pred_test))\n",
    "print('F2: ', fbeta_score(y_test_fe, y_pred_test, beta=2))"
   ]
  },
  {
   "cell_type": "code",
   "execution_count": 42,
   "metadata": {},
   "outputs": [
    {
     "data": {
      "text/plain": [
       "<sklearn.metrics._plot.roc_curve.RocCurveDisplay at 0x2aa941b2640>"
      ]
     },
     "execution_count": 42,
     "metadata": {},
     "output_type": "execute_result"
    },
    {
     "data": {
      "image/png": "[encoded data removed]",
      "text/plain": [
       "<Figure size 432x288 with 1 Axes>"
      ]
     },
     "metadata": {
      "needs_background": "light"
     },
     "output_type": "display_data"
    }
   ],
   "source": [
    "plot_roc_curve(final_lr, X_test_fe_prep, y_test_fe)"
   ]
  },
  {
   "cell_type": "markdown",
   "metadata": {},
   "source": [
    "## KNN (Tuned)"
   ]
  },
  {
   "cell_type": "code",
   "execution_count": 43,
   "metadata": {},
   "outputs": [
    {
     "data": {
      "text/plain": [
       "KNeighborsClassifier(algorithm='ball_tree', n_neighbors=3, p=3)"
      ]
     },
     "execution_count": 43,
     "metadata": {},
     "output_type": "execute_result"
    }
   ],
   "source": [
    "param_grid = {\n",
    "    'n_neighbors' : [1,3,5,7,9],\n",
    "    'algorithm' : ['auto', 'ball_tree', 'kd_tree', 'brute'],\n",
    "    'p' : [2,3],\n",
    "    }\n",
    "\n",
    "grid_search_knn = RandomizedSearchCV(\n",
    "    estimator=KNeighborsClassifier(),\n",
    "    param_distributions=param_grid,\n",
    "    cv=StratifiedKFold(n_splits=3, random_state=22, shuffle=True),\n",
    "    n_jobs=-1,\n",
    "    scoring='recall'\n",
    ")\n",
    "\n",
    "grid_search_knn.fit(X_train_fe_prep, y_train_us)\n",
    "final_knn = grid_search_knn.best_estimator_\n",
    "final_knn"
   ]
  },
  {
   "cell_type": "code",
   "execution_count": 44,
   "metadata": {},
   "outputs": [
    {
     "name": "stdout",
     "output_type": "stream",
     "text": [
      "Tuned KNN: \n",
      "Performance on train set\n",
      "Accuracy:  0.8296066810344828\n",
      "Precision:  0.8486748361356512\n",
      "Recall:  0.8022629310344828\n",
      "F1:  0.8248165074089462\n",
      "F2:  0.8111347170016887\n",
      "\n",
      "\n",
      "Mean Accuracy CV:  0.6981418860664144\n",
      "Mean Recall CV:  0.6686446365539285\n"
     ]
    }
   ],
   "source": [
    "final_knn.fit(X_train_fe_prep, y_train_us)\n",
    "\n",
    "print('Tuned KNN: ')\n",
    "y_pred = final_knn.predict(X_train_fe_prep)\n",
    "print('Performance on train set')\n",
    "print('Accuracy: ', accuracy_score(y_train_us, y_pred))\n",
    "print('Precision: ', precision_score(y_train_us, y_pred))\n",
    "print('Recall: ', recall_score(y_train_us, y_pred))\n",
    "print('F1: ', f1_score(y_train_us, y_pred))\n",
    "print('F2: ', fbeta_score(y_train_us, y_pred, beta=2))\n",
    "print('\\n')\n",
    "print('Mean Accuracy CV: ',cross_val_score(final_knn, X_train_fe_prep, y_train_us).mean())\n",
    "print('Mean Recall CV: ', cross_val_score(final_knn, X_train_fe_prep, y_train_us, scoring='recall').mean())"
   ]
  },
  {
   "cell_type": "code",
   "execution_count": 45,
   "metadata": {},
   "outputs": [
    {
     "name": "stdout",
     "output_type": "stream",
     "text": [
      "Performance on test set (Tuned KNN)\n",
      "Accuracy:  0.7109735372663267\n",
      "Precision:  0.22449753507773987\n",
      "Recall:  0.6379310344827587\n",
      "F1:  0.3321178120617111\n",
      "F2:  0.4662151519924398\n"
     ]
    }
   ],
   "source": [
    "print('Performance on test set (Tuned KNN)')\n",
    "y_pred_test = final_knn.predict(X_test_fe_prep)\n",
    "print('Accuracy: ', accuracy_score(y_test_fe, y_pred_test))\n",
    "print('Precision: ', precision_score(y_test_fe, y_pred_test))\n",
    "print('Recall: ', recall_score(y_test_fe, y_pred_test))\n",
    "print('F1: ', f1_score(y_test_fe, y_pred_test))\n",
    "print('F2: ', fbeta_score(y_test_fe, y_pred_test, beta=2))"
   ]
  },
  {
   "cell_type": "code",
   "execution_count": 46,
   "metadata": {},
   "outputs": [
    {
     "data": {
      "text/plain": [
       "<sklearn.metrics._plot.roc_curve.RocCurveDisplay at 0x2aa9293f610>"
      ]
     },
     "execution_count": 46,
     "metadata": {},
     "output_type": "execute_result"
    },
    {
     "data": {
      "image/png": "[encoded data removed]",
      "text/plain": [
       "<Figure size 432x288 with 1 Axes>"
      ]
     },
     "metadata": {
      "needs_background": "light"
     },
     "output_type": "display_data"
    }
   ],
   "source": [
    "plot_roc_curve(final_knn, X_test_fe_prep, y_test_fe)"
   ]
  },
  {
   "cell_type": "markdown",
   "metadata": {},
   "source": [
    "## Random Forest (Tuned)"
   ]
  },
  {
   "cell_type": "code",
   "execution_count": 47,
   "metadata": {},
   "outputs": [
    {
     "data": {
      "text/plain": [
       "RandomForestClassifier(max_depth=1, n_estimators=20, random_state=22)"
      ]
     },
     "execution_count": 47,
     "metadata": {},
     "output_type": "execute_result"
    }
   ],
   "source": [
    "\n",
    "random_grid = {'n_estimators': [20,65,100,200],\n",
    "               'max_features': ['auto','sqrt'],\n",
    "               'max_depth': [1,25,45],\n",
    "               'min_samples_split': [2,5,10]}\n",
    "\n",
    "tuning_rf = GridSearchCV(\n",
    "    estimator = RandomForestClassifier(random_state=22), \n",
    "    param_grid = random_grid, \n",
    "    cv = StratifiedKFold(n_splits=3, random_state=22, shuffle=True), \n",
    "    verbose=0, \n",
    "    n_jobs = -1, \n",
    "    scoring='recall')\n",
    "\n",
    "tuning_rf.fit(X_train_fe_prep_tree, y_train_us)\n",
    "final_rf = tuning_rf.best_estimator_\n",
    "final_rf"
   ]
  },
  {
   "cell_type": "code",
   "execution_count": 48,
   "metadata": {},
   "outputs": [
    {
     "name": "stdout",
     "output_type": "stream",
     "text": [
      "Tuned Random Forest: \n",
      "Performance on train set\n",
      "Accuracy:  0.7203663793103449\n",
      "Precision:  0.7225244831338411\n",
      "Recall:  0.7155172413793104\n",
      "F1:  0.7190037899296158\n",
      "F2:  0.7169077952925934\n",
      "\n",
      "\n",
      "Mean Accuracy CV:  0.7200991950048554\n",
      "Mean Recall CV:  0.7117506430185777\n"
     ]
    }
   ],
   "source": [
    "final_rf.fit(X_train_fe_prep_tree, y_train_us)\n",
    "\n",
    "print('Tuned Random Forest: ')\n",
    "y_pred = final_rf.predict(X_train_fe_prep_tree)\n",
    "print('Performance on train set')\n",
    "print('Accuracy: ', accuracy_score(y_train_us, y_pred))\n",
    "print('Precision: ', precision_score(y_train_us, y_pred))\n",
    "print('Recall: ', recall_score(y_train_us, y_pred))\n",
    "print('F1: ', f1_score(y_train_us, y_pred))\n",
    "print('F2: ', fbeta_score(y_train_us, y_pred, beta=2))\n",
    "print('\\n')\n",
    "print('Mean Accuracy CV: ',cross_val_score(final_rf, X_train_fe_prep_tree, y_train_us).mean())\n",
    "print('Mean Recall CV: ', cross_val_score(final_rf, X_train_fe_prep_tree, y_train_us, scoring='recall').mean())"
   ]
  },
  {
   "cell_type": "code",
   "execution_count": 49,
   "metadata": {},
   "outputs": [
    {
     "name": "stdout",
     "output_type": "stream",
     "text": [
      "Performance on test set (Tuned RF)\n",
      "Accuracy:  0.7155863073561544\n",
      "Precision:  0.23902618959793434\n",
      "Recall:  0.6982758620689655\n",
      "F1:  0.3561417971970322\n",
      "F2:  0.5044371788883698\n"
     ]
    }
   ],
   "source": [
    "print('Performance on test set (Tuned RF)')\n",
    "y_pred_test = final_rf.predict(X_test_fe_prep_tree)\n",
    "print('Accuracy: ', accuracy_score(y_test_fe, y_pred_test))\n",
    "print('Precision: ', precision_score(y_test_fe, y_pred_test))\n",
    "print('Recall: ', recall_score(y_test_fe, y_pred_test))\n",
    "print('F1: ', f1_score(y_test_fe, y_pred_test))\n",
    "print('F2: ', fbeta_score(y_test_fe, y_pred_test, beta=2))"
   ]
  },
  {
   "cell_type": "code",
   "execution_count": 50,
   "metadata": {},
   "outputs": [
    {
     "data": {
      "text/plain": [
       "<sklearn.metrics._plot.roc_curve.RocCurveDisplay at 0x2aa9f3b21c0>"
      ]
     },
     "execution_count": 50,
     "metadata": {},
     "output_type": "execute_result"
    },
    {
     "data": {
      "image/png": "[encoded data removed]",
      "text/plain": [
       "<Figure size 432x288 with 1 Axes>"
      ]
     },
     "metadata": {
      "needs_background": "light"
     },
     "output_type": "display_data"
    }
   ],
   "source": [
    "plot_roc_curve(final_rf, X_test_fe_prep_tree, y_test_fe)"
   ]
  },
  {
   "cell_type": "markdown",
   "metadata": {},
   "source": [
    "## XGBoost (Tuned)"
   ]
  },
  {
   "cell_type": "code",
   "execution_count": 51,
   "metadata": {},
   "outputs": [
    {
     "data": {
      "text/plain": [
       "XGBClassifier(base_score=0.5, booster='gbtree', colsample_bylevel=1,\n",
       "              colsample_bynode=1, colsample_bytree=1, gamma=0, gpu_id=-1,\n",
       "              importance_type='gain', interaction_constraints='',\n",
       "              learning_rate=0.01, max_delta_step=0, max_depth=4,\n",
       "              min_child_weight=1, missing=nan, monotone_constraints='()',\n",
       "              n_estimators=20, n_jobs=8, num_parallel_tree=1, random_state=22,\n",
       "              reg_alpha=0, reg_lambda=1, scale_pos_weight=1, subsample=1,\n",
       "              tree_method='exact', validate_parameters=1, verbosity=0)"
      ]
     },
     "execution_count": 51,
     "metadata": {},
     "output_type": "execute_result"
    }
   ],
   "source": [
    "param_grid = {\n",
    "    'learning_rate' : [0.001,0.01],\n",
    "    'n_estimators' : [10,20,50],\n",
    "    'gamma' : [0],\n",
    "    'max_depth':[4,5,6]\n",
    "}\n",
    "\n",
    "randCV_xgb = GridSearchCV(\n",
    "    estimator= XGBClassifier(verbosity=0, random_state=22),\n",
    "    param_grid = param_grid,\n",
    "    n_jobs=-1,\n",
    "    scoring='recall',\n",
    "    cv=StratifiedKFold(n_splits=5, random_state=22, shuffle=True)\n",
    "    )\n",
    "\n",
    "randCV_xgb.fit(X_train_fe_prep_tree,y_train_us)\n",
    "final_xgb = randCV_xgb.best_estimator_\n",
    "final_xgb"
   ]
  },
  {
   "cell_type": "markdown",
   "metadata": {},
   "source": [
    "### XGB used\n",
    "\n",
    "XGBClassifier(base_score=0.5, booster='gbtree', colsample_bylevel=1,\n",
    "              colsample_bynode=1, colsample_bytree=1, gamma=0, gpu_id=-1,\n",
    "              importance_type='gain', interaction_constraints='',\n",
    "              learning_rate=0.01, max_delta_step=0, max_depth=4,\n",
    "              min_child_weight=1, missing=nan, monotone_constraints='()',\n",
    "              n_estimators=20, n_jobs=8, num_parallel_tree=1, random_state=0,\n",
    "              reg_alpha=0, reg_lambda=1, scale_pos_weight=1, subsample=1,\n",
    "              tree_method='exact', validate_parameters=1, verbosity=0)"
   ]
  },
  {
   "cell_type": "code",
   "execution_count": 52,
   "metadata": {},
   "outputs": [
    {
     "name": "stdout",
     "output_type": "stream",
     "text": [
      "Tuned XGB: \n",
      "Performance on train set\n",
      "Accuracy:  0.7459590517241379\n",
      "Precision:  0.7902097902097902\n",
      "Recall:  0.6697198275862069\n",
      "F1:  0.7249927092446777\n",
      "F2:  0.6907858174947203\n",
      "\n",
      "\n",
      "Mean Accuracy CV:  0.7404364398704021\n",
      "Mean Recall CV:  0.6416915469811684\n"
     ]
    }
   ],
   "source": [
    "final_xgb.fit(X_train_fe_prep_tree, y_train_us)\n",
    "\n",
    "print('Tuned XGB: ')\n",
    "y_pred = final_xgb.predict(X_train_fe_prep_tree)\n",
    "print('Performance on train set')\n",
    "print('Accuracy: ', accuracy_score(y_train_us, y_pred))\n",
    "print('Precision: ', precision_score(y_train_us, y_pred))\n",
    "print('Recall: ', recall_score(y_train_us, y_pred))\n",
    "print('F1: ', f1_score(y_train_us, y_pred))\n",
    "print('F2: ', fbeta_score(y_train_us, y_pred, beta=2))\n",
    "print('\\n')\n",
    "print('Mean Accuracy CV: ',cross_val_score(final_xgb, X_train_fe_prep_tree, y_train_us).mean())\n",
    "print('Mean Recall CV: ', cross_val_score(final_xgb, X_train_fe_prep_tree, y_train_us, scoring='recall').mean())"
   ]
  },
  {
   "cell_type": "code",
   "execution_count": 53,
   "metadata": {},
   "outputs": [
    {
     "name": "stdout",
     "output_type": "stream",
     "text": [
      "Performance on Test set (Tuned XGB): \n",
      "Accuracy:  0.7984947802864772\n",
      "Precision:  0.3125\n",
      "Recall:  0.6573275862068966\n",
      "F1:  0.42361111111111116\n",
      "F2:  0.5384887005649717\n"
     ]
    }
   ],
   "source": [
    "print('Performance on Test set (Tuned XGB): ')\n",
    "y_pred_test = final_xgb.predict(X_test_fe_prep_tree)\n",
    "print('Accuracy: ', accuracy_score(y_test_fe, y_pred_test))\n",
    "print('Precision: ', precision_score(y_test_fe, y_pred_test))\n",
    "print('Recall: ', recall_score(y_test_fe, y_pred_test))\n",
    "print('F1: ', f1_score(y_test_fe, y_pred_test))\n",
    "print('F2: ', fbeta_score(y_test_fe, y_pred_test, beta=2))"
   ]
  },
  {
   "cell_type": "code",
   "execution_count": 54,
   "metadata": {},
   "outputs": [
    {
     "data": {
      "text/plain": [
       "<sklearn.metrics._plot.roc_curve.RocCurveDisplay at 0x2aa94184a30>"
      ]
     },
     "execution_count": 54,
     "metadata": {},
     "output_type": "execute_result"
    },
    {
     "data": {
      "image/png": "[encoded data removed]",
      "text/plain": [
       "<Figure size 432x288 with 1 Axes>"
      ]
     },
     "metadata": {
      "needs_background": "light"
     },
     "output_type": "display_data"
    }
   ],
   "source": [
    "plot_roc_curve(final_xgb, X_test_fe_prep_tree, y_test_fe)"
   ]
  },
  {
   "cell_type": "code",
   "execution_count": 55,
   "metadata": {},
   "outputs": [],
   "source": [
    "metrics = pd.DataFrame(index=['LogReg','KNN','RandomForest','XGBoost'], columns=['Train_Acc','Train_Precision','Train_Recall','Train_f1','Train_f2','Acc_CV','Recall_CV','Test_Acc','Test_recall','AUC'])"
   ]
  },
  {
   "cell_type": "code",
   "execution_count": 56,
   "metadata": {},
   "outputs": [],
   "source": [
    "metrics.iloc[0,:] = [0.7244073275862069,0.7302377003869541,0.7117456896551724,0.7208731241473396,0.7153687858767465,0.7218499460008894, 0.7130943613891378,0.7259043457149794,0.6939655172413793,0.77]\n",
    "\n",
    "metrics.iloc[1,:] = [0.8310883620689655,0.8503420752565565,0.8036099137931034,0.8263157894736842,0.8125408585748528,0.6950438799495403,0.6672976532089258, 0.7109735372663267,0.6368534482758621,0.72]\n",
    "\n",
    "metrics.iloc[2,:] = [0.7203663793103449,0.7225244831338411,0.7155172413793104,0.7190037899296158,0.7169077952925934,0.7200991950048554,0.7117506430185777,0.7155863073561544,0.6982758620689655,0.75]\n",
    "\n",
    "metrics.iloc[3,:] = [0.7459590517241379,0.7902097902097902,0.6697198275862069,0.7249927092446777,0.6907858174947203,0.7404364398704021,0.6416915469811684,0.7984947802864772,0.6573275862068966,0.78]"
   ]
  },
  {
   "cell_type": "code",
   "execution_count": null,
   "metadata": {},
   "outputs": [],
   "source": []
  },
  {
   "cell_type": "markdown",
   "metadata": {},
   "source": [
    "## Evalutaion Metrics Table"
   ]
  },
  {
   "cell_type": "code",
   "execution_count": 57,
   "metadata": {},
   "outputs": [
    {
     "data": {
      "text/html": [
       "<div>\n",
       "<style scoped>\n",
       "    .dataframe tbody tr th:only-of-type {\n",
       "        vertical-align: middle;\n",
       "    }\n",
       "\n",
       "    .dataframe tbody tr th {\n",
       "        vertical-align: top;\n",
       "    }\n",
       "\n",
       "    .dataframe thead th {\n",
       "        text-align: right;\n",
       "    }\n",
       "</style>\n",
       "<table border=\"1\" class=\"dataframe\">\n",
       "  <thead>\n",
       "    <tr style=\"text-align: right;\">\n",
       "      <th></th>\n",
       "      <th>Train_Acc</th>\n",
       "      <th>Train_Precision</th>\n",
       "      <th>Train_Recall</th>\n",
       "      <th>Train_f1</th>\n",
       "      <th>Train_f2</th>\n",
       "      <th>Acc_CV</th>\n",
       "      <th>Recall_CV</th>\n",
       "      <th>Test_Acc</th>\n",
       "      <th>Test_recall</th>\n",
       "      <th>AUC</th>\n",
       "    </tr>\n",
       "  </thead>\n",
       "  <tbody>\n",
       "    <tr>\n",
       "      <th>LogReg</th>\n",
       "      <td>0.72</td>\n",
       "      <td>0.73</td>\n",
       "      <td>0.71</td>\n",
       "      <td>0.72</td>\n",
       "      <td>0.72</td>\n",
       "      <td>0.72</td>\n",
       "      <td>0.71</td>\n",
       "      <td>0.73</td>\n",
       "      <td>0.69</td>\n",
       "      <td>0.77</td>\n",
       "    </tr>\n",
       "    <tr>\n",
       "      <th>KNN</th>\n",
       "      <td>0.83</td>\n",
       "      <td>0.85</td>\n",
       "      <td>0.80</td>\n",
       "      <td>0.83</td>\n",
       "      <td>0.81</td>\n",
       "      <td>0.70</td>\n",
       "      <td>0.67</td>\n",
       "      <td>0.71</td>\n",
       "      <td>0.64</td>\n",
       "      <td>0.72</td>\n",
       "    </tr>\n",
       "    <tr>\n",
       "      <th>RandomForest</th>\n",
       "      <td>0.72</td>\n",
       "      <td>0.72</td>\n",
       "      <td>0.72</td>\n",
       "      <td>0.72</td>\n",
       "      <td>0.72</td>\n",
       "      <td>0.72</td>\n",
       "      <td>0.71</td>\n",
       "      <td>0.72</td>\n",
       "      <td>0.70</td>\n",
       "      <td>0.75</td>\n",
       "    </tr>\n",
       "    <tr>\n",
       "      <th>XGBoost</th>\n",
       "      <td>0.75</td>\n",
       "      <td>0.79</td>\n",
       "      <td>0.67</td>\n",
       "      <td>0.72</td>\n",
       "      <td>0.69</td>\n",
       "      <td>0.74</td>\n",
       "      <td>0.64</td>\n",
       "      <td>0.80</td>\n",
       "      <td>0.66</td>\n",
       "      <td>0.78</td>\n",
       "    </tr>\n",
       "  </tbody>\n",
       "</table>\n",
       "</div>"
      ],
      "text/plain": [
       "              Train_Acc  Train_Precision  Train_Recall  Train_f1  Train_f2  \\\n",
       "LogReg             0.72             0.73          0.71      0.72      0.72   \n",
       "KNN                0.83             0.85          0.80      0.83      0.81   \n",
       "RandomForest       0.72             0.72          0.72      0.72      0.72   \n",
       "XGBoost            0.75             0.79          0.67      0.72      0.69   \n",
       "\n",
       "              Acc_CV  Recall_CV  Test_Acc  Test_recall   AUC  \n",
       "LogReg          0.72       0.71      0.73         0.69  0.77  \n",
       "KNN             0.70       0.67      0.71         0.64  0.72  \n",
       "RandomForest    0.72       0.71      0.72         0.70  0.75  \n",
       "XGBoost         0.74       0.64      0.80         0.66  0.78  "
      ]
     },
     "execution_count": 57,
     "metadata": {},
     "output_type": "execute_result"
    }
   ],
   "source": [
    "metrics = metrics.apply(pd.to_numeric)\n",
    "metrics = metrics.round(2)\n",
    "metrics"
   ]
  },
  {
   "cell_type": "markdown",
   "metadata": {},
   "source": [
    "# MODEL SELECTION\n",
    "\n",
    "&emsp;&emsp;&emsp;Our first step on selecting the best model is to see the training scores. Looking at the table above, it is clear that KNN performed well on the training set. However, if we look at the CV scores, it differs vastly. Therefore, we did not pick this model as a candidate best model.\n",
    "\n",
    "&emsp;&emsp;&emsp;From the other 3 models, they have their own strengths in the training scores and CV score. Therefore, we will confirm their performances on the test set. From the table above, we can see that logistic regression and random forest are the most stable models on training and test set. However on the test set, there are significant increases in test accuracy score and recall score by 6% and 2% increase for XGboost, respectively. Furthermore, the AUC score between those 3 models XGboost has the highest score with 78% score. **Therefore, we will pick XGboost as our best final model.**"
   ]
  },
  {
   "cell_type": "markdown",
   "metadata": {},
   "source": [
    "\n"
   ]
  },
  {
   "cell_type": "markdown",
   "metadata": {},
   "source": [
    "# CONCLUSION\n",
    "\n",
    "&emsp;&emsp;&emsp;Thus far, we have solved our main problem which to be able to predict potential clients to join our service. This will likely help the bank to increase the revenue as well decrease the cost of campaigning.\n",
    "\n",
    "&emsp;&emsp;&emsp;Our model, in this case is XGboost, can predict clients joining or not with an accuracy of 80%. Due to limited time, this model has been tuned as best as we can and this is the best we can get out of the 4 models. Furthermore, column duration which is the most correlated to our target would make our model not as realistic as possible. Therefore, we wanted to predict a client joining our service before we make the call and by dropping duration would help this problem. \n",
    "\n",
    "&emsp;&emsp;&emsp;Although we got quite high accuracy, we still have another problem which is the error that our model could make and we came to a decision that increasing recall is also our focus. In the end, our model could produce a 66% of recall. Having a high recall could benefit our bank a lot. Having to be able to decrease the misclassification of people actually wanting to join, the bank could avoid too much revenue loss. \n",
    "\n",
    "&emsp;&emsp;&emsp;On the other hand, precision, which we predicted people will join but in actual they will not join, is something that we could mitigate just by confirming the clients by re-contacting them. This type of error (precision) possibly only cost us our time to re-contact our clients. It is by far not as impactful as the former error (recall). \n",
    "\n"
   ]
  },
  {
   "cell_type": "markdown",
   "metadata": {},
   "source": []
  },
  {
   "cell_type": "markdown",
   "metadata": {},
   "source": [
    "# RECOMMENDATION FOR FUTURE CAMPAIGNS"
   ]
  },
  {
   "cell_type": "code",
   "execution_count": 58,
   "metadata": {},
   "outputs": [
    {
     "data": {
      "text/plain": [
       "<AxesSubplot:>"
      ]
     },
     "execution_count": 58,
     "metadata": {},
     "output_type": "execute_result"
    },
    {
     "data": {
      "image/png": "[encoded data removed]",
      "text/plain": [
       "<Figure size 432x288 with 1 Axes>"
      ]
     },
     "metadata": {
      "needs_background": "light"
     },
     "output_type": "display_data"
    }
   ],
   "source": [
    "# feature importances\n",
    "\n",
    "(pd.Series(final_xgb.feature_importances_, index=X_test_fe_prep.columns)\n",
    "   .nlargest(10)\n",
    "   .sort_values(ascending=True)\n",
    "   .plot(kind='barh'))\n"
   ]
  },
  {
   "cell_type": "markdown",
   "metadata": {},
   "source": [
    "&emsp;&emsp;&emsp;We have been able to get a sophisticated model for prediction. However, as stated in our problem framing, we would also like to be able to increase the efficiency and effectiveness of our future campaigns.\n",
    "\n",
    "&emsp;&emsp;&emsp;Therefore, we came up with a recommendation system on what aspects that we should be more concern about and what features should we pay attention and pay a lot of time on.\n",
    "\n",
    "&emsp;&emsp;&emsp;From our final model, we are able to extract the features used to predict the outcome of clients. From the bargraph above, the most impactful features are around months, job, housing loan and marital status.\n",
    "\n",
    "Analysis:\n",
    "\n",
    "- Months\n",
    "    - We should focus more on September and March for our future campaigns. Our assumption is people are more likely to save and open a term-deposit for preparation for holidays.\n",
    "    - After those months, August and October are the months that we should increase our campaigns.\n",
    "\n",
    "- Unemployed\n",
    "    - People with no income tend to open a term-deposit \n",
    "\n",
    "- People with housing loan will most likely join our service. The assumption is they might need money for emergency purposes if someday they could not pay their house loan. \n",
    "\n",
    "- Targeting people who are single also could increase our revenue.\n",
    "\n",
    "- Lastly, by targeting people who had join our previous campaigns could raise the probability of them joining the upcoming campaigns\n"
   ]
  },
  {
   "cell_type": "code",
   "execution_count": null,
   "metadata": {},
   "outputs": [],
   "source": []
  }
 ],
 "metadata": {
  "interpreter": {
   "hash": "38740d3277777e2cd7c6c2cc9d8addf5118fdf3f82b1b39231fd12aeac8aee8b"
  },
  "kernelspec": {
   "display_name": "Python 3.9.0 64-bit",
   "name": "python3"
  },
  "language_info": {
   "codemirror_mode": {
    "name": "ipython",
    "version": 3
   },
   "file_extension": ".py",
   "mimetype": "text/x-python",
   "name": "python",
   "nbconvert_exporter": "python",
   "pygments_lexer": "ipython3",
   "version": "3.9.0"
  },
  "orig_nbformat": 4
 },
 "nbformat": 4,
 "nbformat_minor": 2
}